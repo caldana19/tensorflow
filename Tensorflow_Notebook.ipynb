{
 "cells": [
  {
   "cell_type": "markdown",
   "metadata": {
    "colab_type": "text",
    "id": "kR-4eNdK6lYS"
   },
   "source": [
    "Section 7 \n",
    "=============\n",
    "Introduction to Deep Learning with TensorFlow  \n",
    "----------\n",
    "Sunday 16 October 11am EDT and Tuesday 18 October 9pm EDT (Q/A session)"
   ]
  },
  {
   "cell_type": "markdown",
   "metadata": {},
   "source": [
    "---   \n",
    "- Step 0 -     \n",
    "=================\n",
    "\n",
    "Preliminaries - loading libraries and styles\n",
    "---------------\n",
    "\n",
    "---"
   ]
  },
  {
   "cell_type": "code",
   "execution_count": 140,
   "metadata": {
    "cellView": "both",
    "colab": {
     "autoexec": {
      "startup": false,
      "wait_interval": 0
     }
    },
    "colab_type": "code",
    "collapsed": true,
    "id": "JLpLa8Jt7Vu4"
   },
   "outputs": [],
   "source": [
    "# These are all the modules we'll be using later. Make sure you can import them\n",
    "# before proceeding further.\n",
    "from __future__ import print_function\n",
    "import matplotlib.pyplot as plt\n",
    "import numpy as np\n",
    "import pandas as pd\n",
    "import seaborn as sns\n",
    "import os\n",
    "import sys\n",
    "import tarfile\n",
    "from IPython.display import display, Image\n",
    "from scipy import ndimage\n",
    "from sklearn.linear_model import LogisticRegression\n",
    "from six.moves.urllib.request import urlretrieve\n",
    "from six.moves import cPickle as pickle\n",
    "from six.moves import range\n",
    "\n",
    "# Config the matlotlib backend as plotting inline in IPython\n",
    "%matplotlib inline\n",
    "\n",
    "import tensorflow as tf"
   ]
  },
  {
   "cell_type": "code",
   "execution_count": 141,
   "metadata": {
    "collapsed": true
   },
   "outputs": [],
   "source": [
    "# special matplotlib command for global plot configuration\n",
    "from matplotlib import rcParams\n",
    "import matplotlib.cm as cm\n",
    "import matplotlib as mpl\n",
    "from matplotlib.colors import ListedColormap\n",
    "\n",
    "dark2_colors = [(0.10588235294117647, 0.6196078431372549, 0.4666666666666667),\n",
    "                (0.9058823529411765, 0.1607843137254902, 0.5411764705882353),\n",
    "                (0.8509803921568627, 0.37254901960784315, 0.00784313725490196),\n",
    "                (0.4588235294117647, 0.4392156862745098, 0.7019607843137254),            \n",
    "                (0.4, 0.6509803921568628, 0.11764705882352941),\n",
    "                (0.9019607843137255, 0.6705882352941176, 0.00784313725490196),\n",
    "                (0.6509803921568628, 0.4627450980392157, 0.11372549019607843)]\n",
    "\n",
    "cmap_set1 = ListedColormap(['#e41a1c', '#377eb8', '#4daf4a'])\n",
    "dark2_cmap=ListedColormap(dark2_colors)\n",
    "\n",
    "def set_mpl_params():\n",
    "    rcParams['figure.figsize'] = (10, 6)\n",
    "    rcParams['figure.dpi'] = 150\n",
    "    rcParams['axes.prop_cycle'].by_key()['color'][1]\n",
    "    rcParams['lines.linewidth'] = 2\n",
    "    rcParams['axes.facecolor'] = 'white'\n",
    "    rcParams['font.size'] = 14\n",
    "    rcParams['patch.edgecolor'] = 'white'\n",
    "    rcParams['patch.facecolor'] = dark2_colors[0]\n",
    "    rcParams['font.family'] = 'StixGeneral'\n",
    "\n",
    "set_mpl_params()"
   ]
  },
  {
   "cell_type": "code",
   "execution_count": 265,
   "metadata": {
    "collapsed": false
   },
   "outputs": [
    {
     "data": {
      "text/html": [
       "\n",
       "<style>\n",
       "\n",
       "div.cell { \n",
       "    margin-top:1em;\n",
       "    margin-bottom:1em;\n",
       "}\n",
       "\n",
       "div.text_cell_render h1 {\n",
       "    font-size: 2.em;\n",
       "    line-height:1.2em;\n",
       "    text-align:center;\n",
       "}\n",
       "\n",
       "div.text_cell_render h2 {\n",
       "margin-bottom: -0.2em;\n",
       "}\n",
       "\n",
       "table tbody tr td:first-child, \n",
       "table tbody tr th:first-child, \n",
       "table thead tr th:first-child, \n",
       "table tbody tr td:nth-child(4), \n",
       "table thead tr th:nth-child(4) {\n",
       "    background-color: #edf4e8;\n",
       "}\n",
       "\n",
       "div.text_cell_render { \n",
       "    font-family: 'Garamond';\n",
       "    font-size:1.5em;\n",
       "    line-height:1.4em;\n",
       "    padding-left:3em;\n",
       "    padding-right:3em;\n",
       "}\n",
       "</style>\n"
      ],
      "text/plain": [
       "<IPython.core.display.HTML object>"
      ]
     },
     "execution_count": 265,
     "metadata": {},
     "output_type": "execute_result"
    }
   ],
   "source": [
    "## Markdown CSS\n",
    "from IPython.core.display import HTML\n",
    "HTML(\"\"\"\n",
    "<style>\n",
    "\n",
    "div.cell { \n",
    "    margin-top:1em;\n",
    "    margin-bottom:1em;\n",
    "}\n",
    "\n",
    "div.text_cell_render h1 {\n",
    "    font-size: 2.em;\n",
    "    line-height:1.2em;\n",
    "    text-align:center;\n",
    "}\n",
    "\n",
    "div.text_cell_render h2 {\n",
    "margin-bottom: -0.2em;\n",
    "}\n",
    "\n",
    "table tbody tr td:first-child, \n",
    "table tbody tr th:first-child, \n",
    "table thead tr th:first-child, \n",
    "table tbody tr td:nth-child(4), \n",
    "table thead tr th:nth-child(4) {\n",
    "    background-color: #edf4e8;\n",
    "}\n",
    "\n",
    "div.text_cell_render { \n",
    "    font-family: 'Garamond';\n",
    "    font-size:1.5em;\n",
    "    line-height:1.4em;\n",
    "    padding-left:3em;\n",
    "    padding-right:3em;\n",
    "}\n",
    "</style>\n",
    "\"\"\")"
   ]
  },
  {
   "cell_type": "code",
   "execution_count": 143,
   "metadata": {
    "collapsed": false
   },
   "outputs": [
    {
     "name": "stdout",
     "output_type": "stream",
     "text": [
      "3.5.2 |Continuum Analytics, Inc.| (default, Jul  2 2016, 17:52:12) \n",
      "[GCC 4.2.1 Compatible Apple LLVM 4.2 (clang-425.0.28)]\n"
     ]
    }
   ],
   "source": [
    "print(sys.version)"
   ]
  },
  {
   "cell_type": "markdown",
   "metadata": {},
   "source": [
    "#### Please download and unzip the notMNIST digit dataset from Canvas [at the link here](https://canvas.harvard.edu/files/2946531/download?download_frd=1). It is a 112 MB zipped file which contains a pickled Python dataset named ```notMNIST.pickle```. The file should be placed in the same folder as this Notebook"
   ]
  },
  {
   "cell_type": "markdown",
   "metadata": {},
   "source": [
    "---   \n",
    "- Step 1 -     \n",
    "=================\n",
    "\n",
    "Introduction - how it works\n",
    "---------------\n",
    "\n",
    "---"
   ]
  },
  {
   "cell_type": "markdown",
   "metadata": {},
   "source": [
    "### A simple Hello World - placeholders, variables and operators   \n",
    "\n",
    "We start with a simple multiplication, calculating ```y``` directly from two inputs ```a``` and ```b```   \n",
    "\n",
    "---  \n",
    "TensorFlow uses symbolic variables, defined by ```tf.placeholder(\"dtype\")``` Typically, these variables will be given values upon running the program, and they will be the inputs to calculations.   A simple examples is multiplication, but there are many other simple operators that TensorFlow implements - basically all of the common operators in Numpy.  Placeholders can be scalars, as below, or tensors of any shape.   \n",
    "\n",
    "Once we have define the operation with ```tf.mul(a,b)```, we need to tell TensorFlow what we want it to do. So we create a new TensorFlow session with ```tf.Session()```, attributing the session to a reference variable ```session```. With this, we can later reference the session, as we do in the print statement. We invoke the ```run()``` method which tells TensorFlow to start the program that we have made. \n",
    "\n",
    "Specifically, in the statement ```session.run(y, feed_dict={a: 3, b: 3})```, we tell TensorFlow to solve the function ```y```, and we specify the ```feed_dict``` which is a Python dict that contains the values for the placeholders. TensorFlow will look for the values of any placeholders in ```feed_dict``` - i.e. all variables in a model that are not given values in the program itself. If you forget to feed the values here, TensorFlow will complain."
   ]
  },
  {
   "cell_type": "code",
   "execution_count": 130,
   "metadata": {
    "collapsed": false
   },
   "outputs": [
    {
     "name": "stdout",
     "output_type": "stream",
     "text": [
      "9.0\n"
     ]
    }
   ],
   "source": [
    "a = tf.placeholder(\"float32\")\n",
    "b = tf.placeholder(\"float32\")\n",
    "  \n",
    "y = tf.mul(a, b)\n",
    "  \n",
    "session = tf.Session()\n",
    "  \n",
    "print (session.run(y, feed_dict={a: 3, b: 3}))"
   ]
  },
  {
   "cell_type": "markdown",
   "metadata": {},
   "source": [
    "As expected, TensorFlow solves for ```y``` and prints out the answer.   \n",
    "\n",
    "You might call the method ```run()``` several times in the course of implementing your TensorFlow program. Anytime you want TensorFlow to yield you the value of model variable (e.g. a loss function, a tensor variable, or whatever is on the left-hand side of an equal sign), you can call ```run()```.    \n",
    "\n",
    "There is also another TensorFlow class to invoke an interactive session, using ```tf.InteractiveSession()```.   Let's look at the set of simple operations:  "
   ]
  },
  {
   "cell_type": "markdown",
   "metadata": {},
   "source": [
    "### Simple operations   \n",
    "\n",
    "| Operator   |  Description | | Operator   |  Description |\n",
    "|------: |:------| ------: | |:------|\n",
    "| tf.add\t| sum || tf.square\t|  square | \n",
    "| tf.sub\t| substraction || tf.round\t| nearest integer | \n",
    "| tf.mul\t| multiplication || tf.sqrt\t| square root | \n",
    "| tf.div\t| division ||  tf.pow\t|  power | \n",
    "| tf.mod\t| modulo || tf.exp\t| exponential |\n",
    "| tf.abs\t| absolute value ||  tf.log\t| logarithm | \n",
    "| tf.maximum\t| maximum || tf.minimum\t|  minimum | \n",
    "| tf.inv\t| the inverse |    |     |\n",
    "\n",
    "### Matrix operations\n",
    "| Operator   |  Description |\n",
    "|------: |:------| \n",
    "| tf.diag\t| returns a diagonal tensor with a given diagonal values| \n",
    "| tf.transpose\t| returns the transposes of the argument| \n",
    "| tf.matmul\t| returns a tensor product of multiplying two tensors listed as arguments| \n",
    "| tf.matrix_determinant\t| returns the determinant of the square matrix specified as an argument| \n",
    "| tf.matrix_inverse\t| returns the inverse of the square matrix specified as an argument| "
   ]
  },
  {
   "cell_type": "markdown",
   "metadata": {},
   "source": [
    "### Simple Example #1: HW2 Problem 4, the Painful 2D function    \n",
    "\n",
    "Next, we make ```x``` and ```y``` tensorflow variables and iterate to a solution for the optimization of an objective ```obj```, using the built-in gradient descent optimizer. This is what we will do in general, when we minimize a given loss function. The TensorFlow type ```tf.Variable()``` defines a variable that you want it to estimate: this will usually be your weights and bias terms in a Neural Network, but it can be any tensor in fact. Here it is simply the scalars ```x``` and ```y```. You can initialize it with some value, here ```tf.random_uniform([1], -4.0, 4.0)```, and give it a name. We can then use the two variables thus defined as part of an objective function that we want to solve.  Remember this one:\n",
    "\n",
    "$ 100 \\cdot x \\cdot \\exp(-0.5 \\cdot x^2 + 0.5 \\cdot x - 0.5 \\cdot y^2 - y + \\pi) $"
   ]
  },
  {
   "cell_type": "markdown",
   "metadata": {},
   "source": [
    "What does [Wolfram Alpha say][1] about the shape of this function?\n",
    "\n",
    "[1]:https://www.wolframalpha.com/input/?i=100%E2%8B%85x%E2%8B%85exp%E2%81%A1(%E2%88%920.5%E2%8B%85x2%2B0.5%E2%8B%85x%E2%88%920.5%E2%8B%85y2%E2%88%92y%2B%CF%80)"
   ]
  },
  {
   "cell_type": "code",
   "execution_count": 253,
   "metadata": {
    "collapsed": true
   },
   "outputs": [],
   "source": [
    "x = tf.Variable(tf.random_uniform([1], -1.0, 1.0),'x')\n",
    "y = tf.Variable(tf.random_uniform([1], -1.0, 1.0),'y')\n",
    "\n",
    "obj = tf.mul(100.0,tf.mul(x,tf.exp(tf.add(tf.sub(\n",
    "                    tf.sub(tf.add(tf.mul(-0.50,tf.square(x)),\n",
    "                                  tf.mul(0.50,x)),tf.mul(0.50,tf.square(y))),y),np.pi))))"
   ]
  },
  {
   "cell_type": "markdown",
   "metadata": {},
   "source": [
    "Next we specify the optimizer that we want to use,   \n",
    "\n",
    "    tf.train.GradientDescentOptimizer(0.00005)  \n",
    "specifying the step multiplier as a parameter. The objective function is defined by  \n",
    "\n",
    "    train = optimizer.minimize(obj)  \n",
    "We could also chain both together in one espression."
   ]
  },
  {
   "cell_type": "code",
   "execution_count": 254,
   "metadata": {
    "collapsed": false
   },
   "outputs": [],
   "source": [
    "optimizer = tf.train.GradientDescentOptimizer(0.00005)\n",
    "train = optimizer.minimize(obj)"
   ]
  },
  {
   "cell_type": "markdown",
   "metadata": {},
   "source": [
    "As we have defined variables we need to initialize them. To do this we create another reference variable ```init```, assigning it ```tf.initialize_all_variables()```. Once we create a session using once again ```tf.Session()```, we can run the initialization with ```sess.run(init)```. Anytime we want to reinitialize, we can repeat this."
   ]
  },
  {
   "cell_type": "code",
   "execution_count": 255,
   "metadata": {
    "collapsed": true
   },
   "outputs": [],
   "source": [
    "init = tf.initialize_all_variables()\n",
    " \n",
    "sess = tf.Session()\n",
    "sess.run(init)"
   ]
  },
  {
   "cell_type": "markdown",
   "metadata": {},
   "source": [
    "Next, we run a ```for``` loop of 500 iterations. At each step, we ask TensorFlow to perform the optimisation with ```sess.run(train)```, and every tenth step, we print out  \n",
    "\n",
    "    step, sess.run(x), sess.run(y), sess.run(obj).    \n",
    "    \n",
    "Notice that the ```run()``` method is used repeatedly. "
   ]
  },
  {
   "cell_type": "code",
   "execution_count": 256,
   "metadata": {
    "collapsed": false
   },
   "outputs": [
    {
     "name": "stdout",
     "output_type": "stream",
     "text": [
      "0 [-0.42539263] [-0.06999375] [-777.73730469]\n",
      "10 [-0.72250837] [-0.45817474] [-1277.53283691]\n",
      "20 [-0.77316266] [-0.73260128] [-1434.07385254]\n",
      "30 [-0.77988338] [-0.87450147] [-1474.72473145]\n",
      "40 [-0.78067493] [-0.94182181] [-1483.87158203]\n",
      "50 [-0.78076494] [-0.97310346] [-1485.84753418]\n",
      "60 [-0.78077513] [-0.98757267] [-1486.27001953]\n",
      "70 [-0.78077626] [-0.99425876] [-1486.36083984]\n",
      "80 [-0.78077632] [-0.99734771] [-1486.38024902]\n",
      "90 [-0.78077632] [-0.99877471] [-1486.3840332]\n",
      "100 [-0.78077632] [-0.99943393] [-1486.38476562]\n",
      "110 [-0.78077632] [-0.99973851] [-1486.38500977]\n",
      "120 [-0.78077632] [-0.99987924] [-1486.38500977]\n",
      "130 [-0.78077632] [-0.99994421] [-1486.38500977]\n",
      "140 [-0.78077632] [-0.99997425] [-1486.38500977]\n",
      "150 [-0.78077632] [-0.99998814] [-1486.38500977]\n",
      "160 [-0.78077632] [-0.99999452] [-1486.38500977]\n",
      "170 [-0.78077632] [-0.99999744] [-1486.38500977]\n",
      "180 [-0.78077632] [-0.99999887] [-1486.38500977]\n",
      "190 [-0.78077632] [-0.99999946] [-1486.38500977]\n",
      "200 [-0.78077632] [-0.99999964] [-1486.38500977]\n",
      "210 [-0.78077632] [-0.99999964] [-1486.38500977]\n",
      "220 [-0.78077632] [-0.99999964] [-1486.38500977]\n",
      "230 [-0.78077632] [-0.99999964] [-1486.38500977]\n",
      "240 [-0.78077632] [-0.99999964] [-1486.38500977]\n",
      "250 [-0.78077632] [-0.99999964] [-1486.38500977]\n",
      "260 [-0.78077632] [-0.99999964] [-1486.38500977]\n",
      "270 [-0.78077632] [-0.99999964] [-1486.38500977]\n",
      "280 [-0.78077632] [-0.99999964] [-1486.38500977]\n",
      "290 [-0.78077632] [-0.99999964] [-1486.38500977]\n"
     ]
    }
   ],
   "source": [
    "for step in range(300):\n",
    "    sess.run(train)\n",
    "    if step % 10 == 0:\n",
    "        print (step, sess.run(x), sess.run(y), sess.run(obj))"
   ]
  },
  {
   "cell_type": "markdown",
   "metadata": {},
   "source": [
    "Easy. We didn't even need 500 iterations. Try playing around with the starting points and the step size parameter to see how the results change. To fix a starting value for ```x``` and ```y```, you can use, for example:    \n",
    "\n",
    "    x = tf.Variable([-2.0],'x')  \n",
    "\n",
    "    y = tf.Variable([2.0],'y')\n"
   ]
  },
  {
   "cell_type": "code",
   "execution_count": 257,
   "metadata": {
    "collapsed": false
   },
   "outputs": [
    {
     "name": "stdout",
     "output_type": "stream",
     "text": [
      "0 [-1.99577963] [ 1.99366951] [-4.33755589]\n",
      "10 [-1.94677186] [ 1.91990888] [-5.93967867]\n",
      "20 [-1.8790518] [ 1.81717634] [-9.06431484]\n",
      "30 [-1.77236235] [ 1.65315473] [-17.16110992]\n",
      "40 [-1.54356551] [ 1.28980696] [-60.1096077]\n",
      "50 [-0.79220051] [-0.89547592] [-1478.03442383]\n",
      "60 [-0.78841639] [-0.99999988] [-1486.27124023]\n",
      "70 [-0.78596187] [-1.] [-1486.33239746]\n",
      "80 [-0.78430086] [-1.] [-1486.36071777]\n",
      "90 [-0.7831738] [-1.] [-1486.37390137]\n",
      "100 [-0.78240794] [-1.] [-1486.38000488]\n",
      "110 [-0.78188694] [-1.] [-1486.38256836]\n",
      "120 [-0.78153229] [-1.] [-1486.38415527]\n",
      "130 [-0.78129113] [-1.] [-1486.38452148]\n",
      "140 [-0.7811271] [-1.] [-1486.38500977]\n"
     ]
    }
   ],
   "source": [
    "x = tf.Variable([-2.0],'x')\n",
    "y = tf.Variable([2.0],'y')\n",
    "\n",
    "\n",
    "obj = tf.mul(100.0,tf.mul(x,tf.exp(tf.add(tf.sub(\n",
    "                    tf.sub(tf.add(tf.mul(-0.50,tf.square(x)),\n",
    "                                  tf.mul(0.50,x)),tf.mul(0.50,tf.square(y))),y),np.pi))))\n",
    "\n",
    "optimizer = tf.train.GradientDescentOptimizer(0.0005)\n",
    "train = optimizer.minimize(obj) \n",
    "\n",
    "init = tf.initialize_all_variables()\n",
    " \n",
    "sess = tf.Session()\n",
    "sess.run(init)\n",
    "\n",
    "for step in range(150):\n",
    "    sess.run(train)\n",
    "    if step % 10 == 0:\n",
    "        print (step, sess.run(x), sess.run(y), sess.run(obj))"
   ]
  },
  {
   "cell_type": "markdown",
   "metadata": {},
   "source": [
    "### Tensor operations   \n",
    "\n",
    "| Operator   |  Description |\n",
    "|------: |:------|\n",
    "| tf.shape\t| To find a shape of a tensor| \n",
    "| tf.size\t| To find the size of a tensor| \n",
    "| tf.rank\t| To find a rank of a tensor| \n",
    "| tf.reshape\t| To change the shape of a tensor keeping the same elements contained| \n",
    "| tf.tile\t| To create a new tensor replicating a tensor multiple times| \n",
    "| tf.squeeze\t| To delete in a tensor dimensions of size 1\n",
    "| tf.expand_dims\t| To insert a dimension to a tensor \n",
    "| tf.slice\t| To remove a portions of a tensor\n",
    "| tf.split\t| To divide a tensor into several tensors along one dimension\n",
    "| tf.concat\t| To concatenate tensors in one dimension| \n",
    "| tf.reverse\t| To reverse a specific dimension of a tensor| \n",
    "| tf.transpose\t| To transpose dimensions in a tensor| \n",
    "|   |   |\n",
    "| tf.reduce_sum\t| Computes the sum of the elements along one dimension| \n",
    "| tf.reduce_prod\t| Computes the product of the elements along one dimension| \n",
    "| tf.reduce_min\t| Computes the minimum of the elements along one dimension| \n",
    "| tf.reduce_max\t| Computes the maximum of the elements along one dimension| \n",
    "| tf.reduce_mean\t| Computes the mean of the elements along one dimension| "
   ]
  },
  {
   "cell_type": "markdown",
   "metadata": {},
   "source": [
    "#### Now might be a good time to ask: what is a tensor?"
   ]
  },
  {
   "cell_type": "markdown",
   "metadata": {},
   "source": [
    "### Example #2: HW2 Problem 2, Regression of one variable - Moore's Law"
   ]
  },
  {
   "cell_type": "markdown",
   "metadata": {},
   "source": [
    "Now that we have seem the basic elements of a TensorFlow model, let's use it to estimate a linear regression, and see how the optimization process leads to the same answer that we would get from an Ordinary Least Squares (OLS) regression. "
   ]
  },
  {
   "cell_type": "code",
   "execution_count": 9,
   "metadata": {
    "collapsed": false
   },
   "outputs": [
    {
     "data": {
      "text/html": [
       "<div>\n",
       "<table border=\"1\" class=\"dataframe\">\n",
       "  <thead>\n",
       "    <tr style=\"text-align: right;\">\n",
       "      <th></th>\n",
       "      <th>Intel Processor</th>\n",
       "      <th>Year</th>\n",
       "      <th>Transistors</th>\n",
       "    </tr>\n",
       "  </thead>\n",
       "  <tbody>\n",
       "    <tr>\n",
       "      <th>0</th>\n",
       "      <td>4004</td>\n",
       "      <td>1971.9</td>\n",
       "      <td>2300</td>\n",
       "    </tr>\n",
       "    <tr>\n",
       "      <th>1</th>\n",
       "      <td>8008</td>\n",
       "      <td>1972.3</td>\n",
       "      <td>3500</td>\n",
       "    </tr>\n",
       "    <tr>\n",
       "      <th>2</th>\n",
       "      <td>8080</td>\n",
       "      <td>1974.3</td>\n",
       "      <td>6000</td>\n",
       "    </tr>\n",
       "    <tr>\n",
       "      <th>3</th>\n",
       "      <td>8085</td>\n",
       "      <td>1976.3</td>\n",
       "      <td>6500</td>\n",
       "    </tr>\n",
       "    <tr>\n",
       "      <th>4</th>\n",
       "      <td>8086</td>\n",
       "      <td>1978.5</td>\n",
       "      <td>29000</td>\n",
       "    </tr>\n",
       "  </tbody>\n",
       "</table>\n",
       "</div>"
      ],
      "text/plain": [
       "  Intel Processor    Year  Transistors\n",
       "0            4004  1971.9         2300\n",
       "1            8008  1972.3         3500\n",
       "2            8080  1974.3         6000\n",
       "3            8085  1976.3         6500\n",
       "4            8086  1978.5        29000"
      ]
     },
     "execution_count": 9,
     "metadata": {},
     "output_type": "execute_result"
    }
   ],
   "source": [
    "mooreDF = pd.read_csv('mooresLawHw.txt', sep='\\t')[[\"Intel Processor\", \"Year\", \"Transistors\"]]\n",
    "mooreDF.head()"
   ]
  },
  {
   "cell_type": "markdown",
   "metadata": {},
   "source": [
    "As in the HW2 problems, let's set up the model where Year is the explanatory factor we regress the log of Transistors on it. The first part is just Numpy - but we could also use the TensorFlow simple operators from above. We want to subtract the base year of 1970 and then standardize the values - this puts the problem in a more *comfortable* optimization space.   \n",
    "\n",
    "Then we set up the weight ```W``` and the ```bias``` terms - the weights will be initialized randomly and the bias given a starting value of zero. As we will soon see, this is *really* similar to how we will define a Neural Net model. We finish by specifying the linear model as ```y_hat = W * X + b```. "
   ]
  },
  {
   "cell_type": "code",
   "execution_count": 10,
   "metadata": {
    "collapsed": false
   },
   "outputs": [],
   "source": [
    "X = mooreDF.Year.astype('float32').values-1970.0\n",
    "y = np.log(mooreDF.Transistors.astype('float32').values)\n",
    "X = list(X / np.std(X))\n",
    "y = list(y / np.std(y))\n",
    "\n",
    "W = tf.Variable(tf.random_uniform([1], -1.0, 1.0))\n",
    "b = tf.Variable(tf.zeros([1]))\n",
    "y_hat = W * X + b"
   ]
  },
  {
   "cell_type": "markdown",
   "metadata": {},
   "source": [
    "For OLS, we want to minimize the squared residuals - which is simply a loss function given by: \n",
    "\n",
    "    tf.reduce_mean(tf.square(tf.sub(y_hat,y)))\n",
    "As before, we define ```train``` to be the function to optimize, and then initialize all the variables."
   ]
  },
  {
   "cell_type": "code",
   "execution_count": 11,
   "metadata": {
    "collapsed": false
   },
   "outputs": [],
   "source": [
    "loss = tf.reduce_mean(tf.square(tf.sub(y_hat,y)))\n",
    "optimizer = tf.train.GradientDescentOptimizer(0.05)\n",
    "train = optimizer.minimize(loss)\n",
    "\n",
    "init = tf.initialize_all_variables()\n",
    " \n",
    "sess = tf.Session()\n",
    "sess.run(init)"
   ]
  },
  {
   "cell_type": "markdown",
   "metadata": {},
   "source": [
    "We will run for 500 iterations, plotting out the estimated line (i.e. the line given by the the Weight ```W``` and the bias ```b```) at each 50th iteration. "
   ]
  },
  {
   "cell_type": "code",
   "execution_count": 12,
   "metadata": {
    "collapsed": false
   },
   "outputs": [
    {
     "data": {
      "image/png": "[encoded data removed]",
      "text/plain": [
       "<matplotlib.figure.Figure at 0x118571080>"
      ]
     },
     "metadata": {},
     "output_type": "display_data"
    },
    {
     "name": "stdout",
     "output_type": "stream",
     "text": [
      "0 [ 1.62342274] [ 0.31601024]\n"
     ]
    },
    {
     "data": {
      "image/png": "[encoded data removed]",
      "text/plain": [
       "<matplotlib.figure.Figure at 0x1185e3390>"
      ]
     },
     "metadata": {},
     "output_type": "display_data"
    },
    {
     "name": "stdout",
     "output_type": "stream",
     "text": [
      "50 [ 1.31275773] [ 0.89042878]\n"
     ]
    },
    {
     "data": {
      "image/png": "[encoded data removed]",
      "text/plain": [
       "<matplotlib.figure.Figure at 0x11857b390>"
      ]
     },
     "metadata": {},
     "output_type": "display_data"
    },
    {
     "name": "stdout",
     "output_type": "stream",
     "text": [
      "100 [ 1.19598055] [ 1.28573561]\n"
     ]
    },
    {
     "data": {
      "image/png": "[encoded data removed]",
      "text/plain": [
       "<matplotlib.figure.Figure at 0x11ae912e8>"
      ]
     },
     "metadata": {},
     "output_type": "display_data"
    },
    {
     "name": "stdout",
     "output_type": "stream",
     "text": [
      "150 [ 1.12063968] [ 1.54077446]\n"
     ]
    },
    {
     "data": {
      "image/png": "[encoded data removed]",
      "text/plain": [
       "<matplotlib.figure.Figure at 0x11aefda20>"
      ]
     },
     "metadata": {},
     "output_type": "display_data"
    },
    {
     "name": "stdout",
     "output_type": "stream",
     "text": [
      "200 [ 1.07203245] [ 1.70531642]\n"
     ]
    },
    {
     "data": {
      "image/png": "[encoded data removed]",
      "text/plain": [
       "<matplotlib.figure.Figure at 0x11b9f0cf8>"
      ]
     },
     "metadata": {},
     "output_type": "display_data"
    },
    {
     "name": "stdout",
     "output_type": "stream",
     "text": [
      "250 [ 1.04067278] [ 1.81147337]\n"
     ]
    },
    {
     "data": {
      "image/png": "[encoded data removed]",
      "text/plain": [
       "<matplotlib.figure.Figure at 0x11bab8eb8>"
      ]
     },
     "metadata": {},
     "output_type": "display_data"
    },
    {
     "name": "stdout",
     "output_type": "stream",
     "text": [
      "300 [ 1.02044046] [ 1.87996233]\n"
     ]
    },
    {
     "data": {
      "image/png": "[encoded data removed]",
      "text/plain": [
       "<matplotlib.figure.Figure at 0x11bb28470>"
      ]
     },
     "metadata": {},
     "output_type": "display_data"
    },
    {
     "name": "stdout",
     "output_type": "stream",
     "text": [
      "350 [ 1.00738728] [ 1.92414892]\n"
     ]
    },
    {
     "data": {
      "image/png": "[encoded data removed]",
      "text/plain": [
       "<matplotlib.figure.Figure at 0x11bcf1ba8>"
      ]
     },
     "metadata": {},
     "output_type": "display_data"
    },
    {
     "name": "stdout",
     "output_type": "stream",
     "text": [
      "400 [ 0.99896592] [ 1.95265663]\n"
     ]
    },
    {
     "data": {
      "image/png": "[encoded data removed]",
      "text/plain": [
       "<matplotlib.figure.Figure at 0x11bdb6630>"
      ]
     },
     "metadata": {},
     "output_type": "display_data"
    },
    {
     "name": "stdout",
     "output_type": "stream",
     "text": [
      "450 [ 0.9935326] [ 1.97104907]\n"
     ]
    }
   ],
   "source": [
    "for step in range(500):\n",
    "    sess.run(train)\n",
    "    if step % 50 == 0:\n",
    "        plt.figure(figsize=(5,4))\n",
    "        plt.scatter(X, y, s=100, c=dark2_colors)\n",
    "        plt.plot(X, sess.run(W) * X + sess.run(b))\n",
    "        plt.show()\n",
    "        print (step, sess.run(W), sess.run(b))"
   ]
  },
  {
   "cell_type": "markdown",
   "metadata": {},
   "source": [
    "That's how it works. We see that on each iteration, TensorFlow is adjusting the ```W``` and the ```b``` according to the Gradient Descent algorithm. We stop it arbitrarily after 500 iterations, but we could also define a stopping criterion. Next, for Neural Nets, we will be building on the same programming model - using variables, placeholders, models (or loss functions) and optimizers - at at each step, just making the definitions more elaborate."
   ]
  },
  {
   "cell_type": "markdown",
   "metadata": {},
   "source": [
    "\n",
    "*Note: Examples from the Udacity course on Deep Learning*\n",
    "=======\n",
    "\n",
    "The remainder of the notebook uses the examples gratuitously taken from the first four assignments from the recent Udacity course on [Deep Learning](https://www.udacity.com/course/deep-learning--ud730). They cover the principal methods to get \"up and running\" with TensorFlow, in particular for the analysis of images. Assignments 5 and 6 of the course investigate text analysis and are not included here. The Udacity course has lectures by Google Brain lead Vincent Vanhoucke, which give a concise overview of the concepts.   \n",
    "\n",
    "\n",
    "---"
   ]
  },
  {
   "cell_type": "markdown",
   "metadata": {},
   "source": [
    "---   \n",
    "- Step 1 -     \n",
    "=================\n",
    "\n",
    "Loading, visualizing the pickled data\n",
    "---------------\n",
    "\n",
    "---\n"
   ]
  },
  {
   "cell_type": "markdown",
   "metadata": {
    "colab_type": "text",
    "id": "1HrCK6e17WzV"
   },
   "source": [
    "As in the Udacity course, we will be using the [notMNIST](http://yaroslavvb.blogspot.com/2011/09/notmnist-dataset.html) dataset of letters A -- J for the examples - while it resembles the well-known [MNIST](http://yann.lecun.com/exdb/mnist/) digit dataset, it adds a little more variety to the images: different fonts, some noise, missing patches, etc. As a result, the ten labels are slightly more difficult to predit than MNIST.  \n",
    "\n",
    "Each image is a gray-scale 28x28 pixel image of a single character rendered in a variety of fonts and labelled in one of 10 classes 'A' through 'J' (10 classes).   \n",
    "\n",
    "The dataset that is in the pickle file that you have downloaded is a subset of the full notMNIST set - but rather a random sample of 20000 training images, 10000 validation images and 10000 test images. Once it has been have downloaded, unzipped and placed in the same folder as this notebook, we can open the pickle file. Those who want to pursue further with this dataset (and faster computers or GPUs) can download the full 500K images and create larger datasets - the intro assignment of the Udacity course can show you how. "
   ]
  },
  {
   "cell_type": "code",
   "execution_count": 259,
   "metadata": {
    "cellView": "both",
    "colab": {
     "autoexec": {
      "startup": false,
      "wait_interval": 0
     },
     "output_extras": [
      {
       "item_id": 1
      }
     ]
    },
    "colab_type": "code",
    "collapsed": false,
    "executionInfo": {
     "elapsed": 19456,
     "status": "ok",
     "timestamp": 1449847956073,
     "user": {
      "color": "",
      "displayName": "",
      "isAnonymous": false,
      "isMe": true,
      "permissionId": "",
      "photoUrl": "",
      "sessionId": "0",
      "userId": ""
     },
     "user_tz": 480
    },
    "id": "y3-cj1bpmuxc",
    "outputId": "0ddb1607-1fc4-4ddb-de28-6c7ab7fb0c33"
   },
   "outputs": [
    {
     "name": "stdout",
     "output_type": "stream",
     "text": [
      "Training set (200000, 28, 28) (200000,)\n",
      "Validation set (10000, 28, 28) (10000,)\n",
      "Test set (10000, 28, 28) (10000,)\n"
     ]
    }
   ],
   "source": [
    "pickle_file = 'notMNIST.pickle'\n",
    "\n",
    "with open(pickle_file, 'rb') as f:\n",
    "    save = pickle.load(f)\n",
    "    train_dataset = save['train_dataset']\n",
    "    train_labels = save['train_labels']\n",
    "    valid_dataset = save['valid_dataset']\n",
    "    valid_labels = save['valid_labels']\n",
    "    test_dataset = save['test_dataset']\n",
    "    test_labels = save['test_labels']\n",
    "    del save  # hint to help gc free up memory - get rid of the pickle load\n",
    "    print('Training set', train_dataset.shape, train_labels.shape)\n",
    "    print('Validation set', valid_dataset.shape, valid_labels.shape)\n",
    "    print('Test set', test_dataset.shape, test_labels.shape)"
   ]
  },
  {
   "cell_type": "markdown",
   "metadata": {},
   "source": [
    "We now have each of ```_dataset``` and ```_labels``` for all three datasets. "
   ]
  },
  {
   "cell_type": "markdown",
   "metadata": {},
   "source": [
    "---\n",
    "Visualizing the data\n",
    "---------\n",
    "\n",
    "We can use matplotlib image to visualize the images. First we check the first two rows of the training dataset and labels. The datasets consist of a 3D array (image index, x, y) of floating point values. Each image has already been normalized to have approximately zero mean and standard deviation of approximately 0.5 . \n",
    "\n",
    "Once we print out the first two rows, we randomly select 5 images from each dataset - which will be an image of a character A through J rendered in various fonts. As we may see, some of the images are a quite liberal interpetation of the character.\n",
    "\n",
    "---"
   ]
  },
  {
   "cell_type": "code",
   "execution_count": 260,
   "metadata": {
    "collapsed": false
   },
   "outputs": [
    {
     "name": "stdout",
     "output_type": "stream",
     "text": [
      "[[[ 0.5         0.5         0.5        ..., -0.5        -0.5        -0.5       ]\n",
      "  [ 0.5         0.5         0.5        ..., -0.49607843 -0.5        -0.5       ]\n",
      "  [ 0.5         0.5         0.5        ..., -0.49607843 -0.49607843 -0.5       ]\n",
      "  ..., \n",
      "  [ 0.5         0.5         0.5        ..., -0.5        -0.49607843 -0.5       ]\n",
      "  [ 0.5         0.5         0.5        ..., -0.49215686 -0.5        -0.5       ]\n",
      "  [ 0.5         0.5         0.5        ..., -0.5        -0.5        -0.5       ]]\n",
      "\n",
      " [[-0.5        -0.01764706  0.5        ...,  0.5         0.48823529\n",
      "    0.48039216]\n",
      "  [-0.5        -0.45294118 -0.31568629 ...,  0.5         0.05686275\n",
      "   -0.44901961]\n",
      "  [-0.49607843 -0.5        -0.44509804 ...,  0.5        -0.00588235 -0.5       ]\n",
      "  ..., \n",
      "  [-0.49607843 -0.5        -0.44509804 ...,  0.5        -0.00588235 -0.5       ]\n",
      "  [-0.5        -0.45294118 -0.31568629 ...,  0.5         0.05686275\n",
      "   -0.44901961]\n",
      "  [-0.5        -0.01764706  0.5        ...,  0.5         0.48823529\n",
      "    0.48039216]]]\n",
      "[1 7]\n"
     ]
    },
    {
     "data": {
      "image/png": "[encoded data removed]",
      "text/plain": [
       "<matplotlib.figure.Figure at 0x12c719e10>"
      ]
     },
     "metadata": {},
     "output_type": "display_data"
    }
   ],
   "source": [
    "import matplotlib.image as mpimg\n",
    "plt.ion()\n",
    "fig1 = plt.figure(figsize=(10, 10))\n",
    "plt.gray()\n",
    "\n",
    "print (train_dataset[:2,:,:])\n",
    "print (train_labels[:2])\n",
    "\n",
    "for k in range(5):\n",
    "    i = np.random.choice(range(len(train_dataset)))\n",
    "    img = train_dataset[i, :, :]\n",
    "    imgplot1 = fig1.add_subplot(3,5,k+1)\n",
    "    imgplot1.imshow(img)    \n",
    "    imgplot1.set_title(\"Train set example\")\n",
    "\n",
    "for k in range(5):\n",
    "    i = np.random.choice(range(len(test_dataset)))\n",
    "    img = test_dataset[i, :, :]\n",
    "    imgplot2 = fig1.add_subplot(3,5,k+6)\n",
    "    imgplot2.imshow(img)    \n",
    "    imgplot2.set_title(\"Test set example\")\n",
    "\n",
    "for k in range(5):\n",
    "    i = np.random.choice(range(len(valid_dataset)))\n",
    "    img = valid_dataset[i, :, :]\n",
    "    imgplot3 = fig1.add_subplot(3,5,k+11)\n",
    "    imgplot3.imshow(img)    \n",
    "    imgplot3.set_title(\"Valid set example\") \n",
    "    \n",
    "plt.show()"
   ]
  },
  {
   "cell_type": "markdown",
   "metadata": {},
   "source": [
    "---\n",
    "Logistic Regression with SciKit-Learn\n",
    "---------\n",
    "\n",
    "After HW2, you now have a good knowledge of the SciKit Learn package classifiers. Before looking at Deep Learning, how would an 'off-the-shelf' SciKit Learn classifier like logistic regression perform? We will now train a simple model using 50, 100, 1000, 5000 and 10000 training samples and the logistic regression classifier and check the accuracy.  We use reshape to make each 28 by 28 image grid into a 784 array. \n",
    "\n",
    "---"
   ]
  },
  {
   "cell_type": "code",
   "execution_count": 30,
   "metadata": {
    "collapsed": false
   },
   "outputs": [
    {
     "name": "stdout",
     "output_type": "stream",
     "text": [
      "LogisticRegression score: 0.600000\n",
      "LogisticRegression score: 0.780000\n",
      "LogisticRegression score: 0.786000\n",
      "LogisticRegression score: 0.771800\n",
      "LogisticRegression score: 0.785700\n",
      "(10, 784)\n"
     ]
    }
   ],
   "source": [
    "kays = [50, 100, 1000, 5000, 10000]\n",
    "for k in kays:\n",
    "    X_train = train_dataset[:k,:,:].reshape(k,784)\n",
    "    y_train = train_labels[:k]\n",
    "    X_valid = valid_dataset[:k,:,:].reshape(k,784)\n",
    "    y_valid = valid_labels[:k]\n",
    "\n",
    "    logistic = LogisticRegression()\n",
    "    print('LogisticRegression score: %f'\n",
    "          % logistic.fit(X_train, y_train).score(X_valid, y_valid))\n",
    "    \n",
    "clf = logistic.fit(X_train, y_train)\n",
    "print(clf.coef_.shape)"
   ]
  },
  {
   "cell_type": "markdown",
   "metadata": {},
   "source": [
    "We get the accuracy score on the validation set up to 78.5% for 10000 training samples. Now let's see what a logistic regression model in TensorFlow can do."
   ]
  },
  {
   "cell_type": "markdown",
   "metadata": {},
   "source": [
    "---\n",
    "- Step 2 - \n",
    "===========   \n",
    "Simple models in TensorFlow\n",
    "-------------\n",
    "\n",
    "We will work on developing progressively more accurate models with TensorFlow. The objective to to discover how to construct deeper models introduce regularization so that we do not overfit on the training data. Overfitting will show-up as high training accuracy but where the model does not perform well on the validation and test data. \n",
    "\n",
    "---"
   ]
  },
  {
   "cell_type": "markdown",
   "metadata": {
    "colab_type": "text",
    "id": "L7aHrm6nGDMB"
   },
   "source": [
    "The first step is to reformat the images - as we did for the SciKitLearn example above - into a flat array that's more adapted to the simple multilayer models that we will use as examples, and to transform the labels into one-hot-encoded matrices with 10 columns. We reformat the data structures in-place (please remember this when running the notebook later - to get the original image matrices - reload the pickle file.)"
   ]
  },
  {
   "cell_type": "code",
   "execution_count": 261,
   "metadata": {
    "cellView": "both",
    "colab": {
     "autoexec": {
      "startup": false,
      "wait_interval": 0
     },
     "output_extras": [
      {
       "item_id": 1
      }
     ]
    },
    "colab_type": "code",
    "collapsed": false,
    "executionInfo": {
     "elapsed": 19723,
     "status": "ok",
     "timestamp": 1449847956364,
     "user": {
      "color": "",
      "displayName": "",
      "isAnonymous": false,
      "isMe": true,
      "permissionId": "",
      "photoUrl": "",
      "sessionId": "0",
      "userId": ""
     },
     "user_tz": 480
    },
    "id": "IRSyYiIIGIzS",
    "outputId": "2ba0fc75-1487-4ace-a562-cf81cae82793"
   },
   "outputs": [
    {
     "name": "stdout",
     "output_type": "stream",
     "text": [
      "Training set (200000, 784) (200000, 10)\n",
      "Validation set (10000, 784) (10000, 10)\n",
      "Test set (10000, 784) (10000, 10)\n"
     ]
    }
   ],
   "source": [
    "image_size = 28\n",
    "num_labels = 10\n",
    "\n",
    "def reformat(dataset, labels):\n",
    "    dataset = dataset.reshape((-1, image_size * image_size)).astype(np.float32)\n",
    "    # Map 0 to [1.0, 0.0, 0.0 ...], 1 to [0.0, 1.0, 0.0 ...]\n",
    "    labels = (np.arange(num_labels) == labels[:,None]).astype(np.float32)\n",
    "    return dataset, labels\n",
    "train_dataset, train_labels = reformat(train_dataset, train_labels)\n",
    "valid_dataset, valid_labels = reformat(valid_dataset, valid_labels)\n",
    "test_dataset, test_labels = reformat(test_dataset, test_labels)\n",
    "print('Training set', train_dataset.shape, train_labels.shape)\n",
    "print('Validation set', valid_dataset.shape, valid_labels.shape)\n",
    "print('Test set', test_dataset.shape, test_labels.shape)"
   ]
  },
  {
   "cell_type": "markdown",
   "metadata": {},
   "source": [
    "---\n",
    "Multinomial logistic regression using simple gradient descent\n",
    "---------\n",
    "\n",
    "As above, we start by describing the elements of the model to optimize using gradient descent. However, now we will define a graph which describes the computations. Once defined, this graph can visualized using Tensorboard in a browser. The edges will be the tensors and the nodes will be the input, operations and outputs.  \n",
    "\n",
    "- We define the graph with ```graph = tf.Graph()``` and create the computation process within a block under  \n",
    "\n",
    "      with graph.as_default():\n",
    "\n",
    "The data are attached to the graph using ```tf.constant()```. We do this for both the labels and images for the training set and also for the images in the both the valid and test data.\n",
    "\n",
    "We construct the weights ```W``` and biases ```b```, specify their size and define how they should be initialized.    \n",
    "\n",
    "    weights = tf.Variable(tf.truncated_normal([784, 10]))\n",
    "    biases = tf.Variable(tf.zeros([10]))\n",
    "\n",
    "We create an expression for ```logits``` which defines the linear part of the logistics regression.  \n",
    "\n",
    "    logits = tf.matmul(tf_train_dataset, weights) + biases  \n",
    "    \n",
    "and define the loss function using the TensorFlow function ```tf.nn.softmax_cross_entropy_with_logits()```. The function combines both the softmax tranformation and the entropy calculation from the logit model.  \n",
    "\n",
    "We can run the operations on this graph as many times as wanted by calling ```session.run()```, providing it outputs to fetch from the graph that get returned. This runtime operation is all contained in the block below:\n",
    "\n",
    "      with tf.Session(graph=graph) as session:\n",
    "\n",
    "\n",
    "To save some time, we will only load half the data into TensorFlow and build the computation graph corresponding to our training. \n",
    "\n",
    "---"
   ]
  },
  {
   "cell_type": "code",
   "execution_count": 262,
   "metadata": {
    "cellView": "both",
    "colab": {
     "autoexec": {
      "startup": false,
      "wait_interval": 0
     }
    },
    "colab_type": "code",
    "collapsed": false,
    "id": "Nfv39qvtvOl_"
   },
   "outputs": [],
   "source": [
    "# With gradient descent training, even this much data is prohibitive.\n",
    "# Subset the training data for faster turnaround.\n",
    "train_subset = 10000\n",
    "\n",
    "graph = tf.Graph()\n",
    "with graph.as_default():\n",
    "\n",
    "    # Input data.\n",
    "    # Load the training, validation and test data into constants that are\n",
    "    # attached to the graph.\n",
    "    tf_train_dataset = tf.constant(train_dataset[:train_subset, :])\n",
    "    tf_train_labels = tf.constant(train_labels[:train_subset])\n",
    "    tf_valid_dataset = tf.constant(valid_dataset)\n",
    "    tf_test_dataset = tf.constant(test_dataset)\n",
    "\n",
    "    # Variables.\n",
    "    # These are the parameters that we are going to be training. The weight\n",
    "    # matrix will be initialized using random values following a (truncated)\n",
    "    # normal distribution. The biases get initialized to zero.\n",
    "    weights = tf.Variable(tf.truncated_normal([784, 10]))\n",
    "    biases = tf.Variable(tf.zeros([10]))\n",
    "  \n",
    "    # Training computation.\n",
    "    # We multiply the inputs with the weight matrix, and add biases. We compute\n",
    "    # the softmax and cross-entropy (it's one operation in TensorFlow, because\n",
    "    # it's very common, and it can be optimized). We take the average of this\n",
    "    # cross-entropy across all training examples: that's our loss.\n",
    "    logits = tf.matmul(tf_train_dataset, weights) + biases\n",
    "    loss = tf.reduce_mean(tf.nn.softmax_cross_entropy_with_logits(logits, tf_train_labels))\n",
    "  \n",
    "    # Optimizer.\n",
    "    # We are going to find the minimum of this loss using gradient descent.\n",
    "    optimizer = tf.train.GradientDescentOptimizer(0.5).minimize(loss)\n",
    "\n",
    "    # Predictions for the training, validation, and test data.\n",
    "    # These are not part of training, but merely here so that we can report\n",
    "    # accuracy figures as we train.\n",
    "    train_prediction = tf.nn.softmax(logits)\n",
    "    valid_prediction = tf.nn.softmax(tf.matmul(tf_valid_dataset, weights) + biases)\n",
    "    test_prediction = tf.nn.softmax(tf.matmul(tf_test_dataset, weights) + biases)"
   ]
  },
  {
   "cell_type": "markdown",
   "metadata": {
    "colab_type": "text",
    "id": "KQcL4uqISHjP"
   },
   "source": [
    "Let's run this computation and iterate. We need to define a function to calculate the accuracy. This will take the class with the highest probility Note the changes from befor:\n",
    "- we run ``` tf.initialize_all_variables()``` directly without using ```init```.\n",
    "- we collect the optimizer, loss and predictions and save them\n",
    "- we print out the results every 100 epochs\n",
    "- we write to the TensorBoard graph to show the computation visually.     \n",
    "\n",
    "For writing to Tensorboard, we added the lines:  \n",
    "\n",
    "    merged = tf.merge_all_summaries() \n",
    "    writer = tf.train.SummaryWriter(\"/tmp/tensorflowlogs\", session.graph)"
   ]
  },
  {
   "cell_type": "code",
   "execution_count": 263,
   "metadata": {
    "cellView": "both",
    "colab": {
     "autoexec": {
      "startup": false,
      "wait_interval": 0
     },
     "output_extras": [
      {
       "item_id": 9
      }
     ]
    },
    "colab_type": "code",
    "collapsed": false,
    "executionInfo": {
     "elapsed": 57454,
     "status": "ok",
     "timestamp": 1449847994134,
     "user": {
      "color": "",
      "displayName": "",
      "isAnonymous": false,
      "isMe": true,
      "permissionId": "",
      "photoUrl": "",
      "sessionId": "0",
      "userId": ""
     },
     "user_tz": 480
    },
    "id": "z2cjdenH869W",
    "outputId": "4c037ba1-b526-4d8e-e632-91e2a0333267"
   },
   "outputs": [
    {
     "name": "stdout",
     "output_type": "stream",
     "text": [
      "Initialized\n",
      "Loss at step 0: 18.498194\n",
      "Training accuracy: 8.9%\n",
      "Validation accuracy: 11.4%\n",
      "Loss at step 100: 2.425138\n",
      "Training accuracy: 71.1%\n",
      "Validation accuracy: 70.2%\n",
      "Loss at step 200: 1.926166\n",
      "Training accuracy: 74.7%\n",
      "Validation accuracy: 72.9%\n",
      "Loss at step 300: 1.668954\n",
      "Training accuracy: 75.8%\n",
      "Validation accuracy: 73.6%\n",
      "Loss at step 400: 1.499486\n",
      "Training accuracy: 76.7%\n",
      "Validation accuracy: 73.9%\n",
      "Loss at step 500: 1.373745\n",
      "Training accuracy: 77.4%\n",
      "Validation accuracy: 74.3%\n",
      "Loss at step 600: 1.274439\n",
      "Training accuracy: 78.0%\n",
      "Validation accuracy: 74.4%\n",
      "Loss at step 700: 1.193020\n",
      "Training accuracy: 78.5%\n",
      "Validation accuracy: 74.5%\n",
      "Loss at step 800: 1.124510\n",
      "Training accuracy: 78.8%\n",
      "Validation accuracy: 74.7%\n",
      "Test accuracy: 82.2%\n"
     ]
    }
   ],
   "source": [
    "num_steps = 801\n",
    "\n",
    "def accuracy(predictions, labels):\n",
    "    return (100.0 * np.sum(np.argmax(predictions, 1) == np.argmax(labels, 1))\n",
    "            / predictions.shape[0])\n",
    "\n",
    "with tf.Session(graph=graph) as session:\n",
    "    # This is a one-time operation which ensures the parameters get initialized as\n",
    "    # we described in the graph: random weights for the matrix, zeros for the\n",
    "    # biases. \n",
    "    tf.initialize_all_variables().run()\n",
    "    merged = tf.merge_all_summaries()\n",
    "    writer = tf.train.SummaryWriter(\"/tmp/tensorflowlogs\", session.graph)\n",
    "    print('Initialized')\n",
    "    for step in range(num_steps):\n",
    "        # Run the computations. We tell .run() that we want to run the optimizer,\n",
    "        # and get the loss value and the training predictions returned as numpy\n",
    "        # arrays.\n",
    "        _, l, predictions = session.run([optimizer, loss, train_prediction])\n",
    "        if (step % 100 == 0):\n",
    "            print('Loss at step %d: %f' % (step, l))\n",
    "            print('Training accuracy: %.1f%%' % accuracy(predictions, train_labels[:train_subset, :]))\n",
    "            # Calling .eval() on valid_prediction is basically like calling run(), but\n",
    "            # just to get that one numpy array. Note that it recomputes all its graph\n",
    "            # dependencies.\n",
    "            print('Validation accuracy: %.1f%%' % accuracy(valid_prediction.eval(), valid_labels))\n",
    "    print('Test accuracy: %.1f%%' % accuracy(test_prediction.eval(), test_labels))"
   ]
  },
  {
   "cell_type": "markdown",
   "metadata": {
    "colab_type": "text",
    "id": "x68f-hxRGm3H"
   },
   "source": [
    "---   \n",
    "Logistic regression with stochastic gradient descent\n",
    "----------------    \n",
    "\n",
    "Let's now switch to stochastic gradient descent training instead, which is much faster.\n",
    "\n",
    "The graph will be similar, except that instead of holding all the training data into a constant node, we create a `placeholder` node which will be fed actual data at every call of `session.run()`.    \n",
    "\n",
    "---"
   ]
  },
  {
   "cell_type": "code",
   "execution_count": 44,
   "metadata": {
    "cellView": "both",
    "colab": {
     "autoexec": {
      "startup": false,
      "wait_interval": 0
     }
    },
    "colab_type": "code",
    "collapsed": true,
    "id": "qhPMzWYRGrzM"
   },
   "outputs": [],
   "source": [
    "batch_size = 256\n",
    "\n",
    "graph = tf.Graph()\n",
    "with graph.as_default():\n",
    "\n",
    "    # Input data. For the training data, we use a placeholder that will be fed\n",
    "    # at run time with a training minibatch.\n",
    "    tf_train_dataset = tf.placeholder(tf.float32, shape=(batch_size, 784))\n",
    "    tf_train_labels = tf.placeholder(tf.float32, shape=(batch_size, 10))\n",
    "    tf_valid_dataset = tf.constant(valid_dataset)\n",
    "    tf_test_dataset = tf.constant(test_dataset)\n",
    "\n",
    "    # Variables.\n",
    "    weights = tf.Variable(tf.truncated_normal([784, 10]))\n",
    "    biases = tf.Variable(tf.zeros([10]))\n",
    "\n",
    "    # Training computation.\n",
    "    logits = tf.matmul(tf_train_dataset, weights) + biases\n",
    "    loss = tf.reduce_mean(tf.nn.softmax_cross_entropy_with_logits(logits, tf_train_labels))\n",
    "\n",
    "    # Optimizer.\n",
    "    optimizer = tf.train.GradientDescentOptimizer(0.5).minimize(loss)\n",
    "\n",
    "    # Predictions for the training, validation, and test data.\n",
    "    train_prediction = tf.nn.softmax(logits)\n",
    "    valid_prediction = tf.nn.softmax(tf.matmul(tf_valid_dataset, weights) + biases)\n",
    "    test_prediction = tf.nn.softmax(tf.matmul(tf_test_dataset, weights) + biases)"
   ]
  },
  {
   "cell_type": "markdown",
   "metadata": {
    "colab_type": "text",
    "id": "XmVZESmtG4JH"
   },
   "source": [
    "Let's run it:"
   ]
  },
  {
   "cell_type": "code",
   "execution_count": 45,
   "metadata": {
    "cellView": "both",
    "colab": {
     "autoexec": {
      "startup": false,
      "wait_interval": 0
     },
     "output_extras": [
      {
       "item_id": 6
      }
     ]
    },
    "colab_type": "code",
    "collapsed": false,
    "executionInfo": {
     "elapsed": 66292,
     "status": "ok",
     "timestamp": 1449848003013,
     "user": {
      "color": "",
      "displayName": "",
      "isAnonymous": false,
      "isMe": true,
      "permissionId": "",
      "photoUrl": "",
      "sessionId": "0",
      "userId": ""
     },
     "user_tz": 480
    },
    "id": "FoF91pknG_YW",
    "outputId": "d255c80e-954d-4183-ca1c-c7333ce91d0a"
   },
   "outputs": [
    {
     "name": "stdout",
     "output_type": "stream",
     "text": [
      "Initialized\n",
      "Minibatch loss at step 0: 16.610388\n",
      "Minibatch accuracy: 7.4%\n",
      "Validation accuracy: 11.8%\n",
      "Minibatch loss at step 500: 1.496551\n",
      "Minibatch accuracy: 78.5%\n",
      "Validation accuracy: 75.3%\n",
      "Minibatch loss at step 1000: 1.364612\n",
      "Minibatch accuracy: 73.8%\n",
      "Validation accuracy: 76.3%\n",
      "Minibatch loss at step 1500: 1.114137\n",
      "Minibatch accuracy: 80.5%\n",
      "Validation accuracy: 77.0%\n",
      "Minibatch loss at step 2000: 0.857561\n",
      "Minibatch accuracy: 81.2%\n",
      "Validation accuracy: 77.9%\n",
      "Minibatch loss at step 2500: 1.132722\n",
      "Minibatch accuracy: 76.6%\n",
      "Validation accuracy: 78.2%\n",
      "Minibatch loss at step 3000: 0.844099\n",
      "Minibatch accuracy: 79.7%\n",
      "Validation accuracy: 78.9%\n",
      "Test accuracy: 86.2%\n"
     ]
    }
   ],
   "source": [
    "num_steps = 3001\n",
    "\n",
    "with tf.Session(graph=graph) as session:\n",
    "    tf.initialize_all_variables().run()\n",
    "    print(\"Initialized\")\n",
    "    for step in range(num_steps):\n",
    "        # Pick an offset within the training data, which has been randomized.\n",
    "        # Note: we could use better randomization across epochs.\n",
    "        offset = (step * batch_size) % (train_labels.shape[0] - batch_size)\n",
    "        # Generate a minibatch.\n",
    "        batch_data = train_dataset[offset:(offset + batch_size), :]\n",
    "        batch_labels = train_labels[offset:(offset + batch_size), :]\n",
    "        # Prepare a dictionary telling the session where to feed the minibatch.\n",
    "        # The key of the dictionary is the placeholder node of the graph to be fed,\n",
    "        # and the value is the numpy array to feed to it.\n",
    "        feed_dict = {tf_train_dataset : batch_data, tf_train_labels : batch_labels}\n",
    "        _, l, predictions = session.run([optimizer, loss, train_prediction], feed_dict=feed_dict)\n",
    "        if (step % 500 == 0):\n",
    "            print(\"Minibatch loss at step %d: %f\" % (step, l))\n",
    "            print(\"Minibatch accuracy: %.1f%%\" % accuracy(predictions, batch_labels))\n",
    "            print(\"Validation accuracy: %.1f%%\" % accuracy(valid_prediction.eval(), valid_labels))\n",
    "    print(\"Test accuracy: %.1f%%\" % accuracy(test_prediction.eval(), test_labels))"
   ]
  },
  {
   "cell_type": "markdown",
   "metadata": {
    "colab_type": "text",
    "id": "7omWxtvLLxik"
   },
   "source": [
    "---\n",
    "1-hidden layer neural network with reLus\n",
    "-------\n",
    "\n",
    "We turn the logistic regression example with SGD into a 1-hidden layer neural network with rectified linear units [nn.relu()](https://www.tensorflow.org/versions/r0.7/api_docs/python/nn.html#relu) and 1024 hidden nodes. This model  improves both the validation and test accuracy.\n",
    "\n",
    "---"
   ]
  },
  {
   "cell_type": "code",
   "execution_count": 46,
   "metadata": {
    "cellView": "both",
    "colab": {
     "autoexec": {
      "startup": false,
      "wait_interval": 0
     }
    },
    "colab_type": "code",
    "collapsed": false,
    "id": "qhPMzWYRGrzM"
   },
   "outputs": [],
   "source": [
    "batch_size = 256\n",
    "hidden_nodes = 1024\n",
    "\n",
    "graph = tf.Graph()\n",
    "with graph.as_default():\n",
    "\n",
    "    # Input data.\n",
    "    tf_train_dataset = tf.placeholder(tf.float32, shape=(batch_size, 784))\n",
    "    tf_train_labels = tf.placeholder(tf.float32, shape=(batch_size, 10))\n",
    "    tf_valid_dataset = tf.constant(valid_dataset)\n",
    "    tf_test_dataset = tf.constant(test_dataset)\n",
    "\n",
    "    # Variables.\n",
    "    layer1_weights = tf.Variable(tf.truncated_normal([784, hidden_nodes]))\n",
    "    layer1_biases = tf.Variable(tf.zeros([hidden_nodes]))\n",
    "    layer2_weights = tf.Variable(tf.truncated_normal([hidden_nodes, 10]))\n",
    "    layer2_biases = tf.Variable(tf.zeros([10]))\n",
    "\n",
    "    # Model.\n",
    "    def model(data):\n",
    "        layer1 = tf.matmul(data, layer1_weights) + layer1_biases\n",
    "        hidden1 = tf.nn.relu(layer1)\n",
    "        return tf.matmul(hidden1, layer2_weights) + layer2_biases\n",
    "    \n",
    "    # Training computation.\n",
    "    logits = model(tf_train_dataset)\n",
    "    loss = tf.reduce_mean(tf.nn.softmax_cross_entropy_with_logits(logits, tf_train_labels))\n",
    "\n",
    "    # Optimizer.\n",
    "    optimizer = tf.train.GradientDescentOptimizer(0.05).minimize(loss)\n",
    "\n",
    "    # Predictions for the training, validation, and test data.\n",
    "    train_prediction = tf.nn.softmax(logits)\n",
    "    valid_prediction = tf.nn.softmax(model(tf_valid_dataset))\n",
    "    test_prediction = tf.nn.softmax(model(tf_test_dataset))"
   ]
  },
  {
   "cell_type": "code",
   "execution_count": 47,
   "metadata": {
    "cellView": "both",
    "colab": {
     "autoexec": {
      "startup": false,
      "wait_interval": 0
     },
     "output_extras": [
      {
       "item_id": 6
      }
     ]
    },
    "colab_type": "code",
    "collapsed": false,
    "executionInfo": {
     "elapsed": 66292,
     "status": "ok",
     "timestamp": 1449848003013,
     "user": {
      "color": "",
      "displayName": "",
      "isAnonymous": false,
      "isMe": true,
      "permissionId": "",
      "photoUrl": "",
      "sessionId": "0",
      "userId": ""
     },
     "user_tz": 480
    },
    "id": "FoF91pknG_YW",
    "outputId": "d255c80e-954d-4183-ca1c-c7333ce91d0a"
   },
   "outputs": [
    {
     "name": "stdout",
     "output_type": "stream",
     "text": [
      "Initialized\n",
      "Minibatch loss at step 0: 372.034302\n",
      "Minibatch accuracy: 10.2%\n",
      "Validation accuracy: 20.5%\n",
      "Minibatch loss at step 500: 21.838032\n",
      "Minibatch accuracy: 79.7%\n",
      "Validation accuracy: 79.5%\n",
      "Minibatch loss at step 1000: 20.674927\n",
      "Minibatch accuracy: 76.6%\n",
      "Validation accuracy: 80.1%\n",
      "Minibatch loss at step 1500: 15.964230\n",
      "Minibatch accuracy: 81.2%\n",
      "Validation accuracy: 82.0%\n",
      "Minibatch loss at step 2000: 10.295261\n",
      "Minibatch accuracy: 84.8%\n",
      "Validation accuracy: 82.1%\n",
      "Minibatch loss at step 2500: 10.054707\n",
      "Minibatch accuracy: 84.8%\n",
      "Validation accuracy: 82.5%\n",
      "Minibatch loss at step 3000: 5.940981\n",
      "Minibatch accuracy: 85.5%\n",
      "Validation accuracy: 83.2%\n",
      "Test accuracy: 89.6%\n"
     ]
    }
   ],
   "source": [
    "def run_session(n_steps):\n",
    "    with tf.Session(graph=graph) as session:\n",
    "        tf.initialize_all_variables().run()\n",
    "        print(\"Initialized\")\n",
    "        for step in range(n_steps):\n",
    "            offset = (step * batch_size) % (train_labels.shape[0] - batch_size)\n",
    "            batch_data = train_dataset[offset:(offset + batch_size), :]\n",
    "            batch_labels = train_labels[offset:(offset + batch_size), :]\n",
    "            feed_dict = {tf_train_dataset : batch_data, tf_train_labels : batch_labels}\n",
    "            _, l, predictions = session.run([optimizer, loss, train_prediction], feed_dict=feed_dict)\n",
    "            if (step % 500 == 0):\n",
    "                print('Minibatch loss at step %d: %f' % (step, l))\n",
    "                print('Minibatch accuracy: %.1f%%' % accuracy(predictions, batch_labels))\n",
    "                print('Validation accuracy: %.1f%%' % accuracy(valid_prediction.eval(), valid_labels))\n",
    "        print('Test accuracy: %.1f%%' % accuracy(test_prediction.eval(), test_labels))\n",
    "\n",
    "run_session(3001)"
   ]
  },
  {
   "cell_type": "markdown",
   "metadata": {
    "collapsed": true
   },
   "source": [
    "---   \n",
    "- Step 3 - \n",
    "=============\n",
    "Regularization\n",
    "--------------\n",
    "\n",
    "We have already trained a logistic regression and a neural network model.\n",
    "\n",
    "Now we will explore regularization techniques.   \n",
    "\n",
    "---   "
   ]
  },
  {
   "cell_type": "markdown",
   "metadata": {},
   "source": [
    "---\n",
    "Simple Neural Network with L2 regularization\n",
    "---------\n",
    "\n",
    "We introduce and tune L2 regularization for both logistic and neural network models. Remember that L2 amounts to adding a penalty on the norm of the weights to the loss. In TensorFlow, you can compute the L2 loss for a tensor `t` using `nn.l2_loss(t)`. The right amount of regularization should improve our validation and test accuracy.\n",
    "\n",
    "---"
   ]
  },
  {
   "cell_type": "code",
   "execution_count": 345,
   "metadata": {
    "collapsed": false
   },
   "outputs": [
    {
     "name": "stdout",
     "output_type": "stream",
     "text": [
      "Initialized\n",
      "Minibatch loss at step 0: 3477.407227\n",
      "Minibatch accuracy: 7.8%\n",
      "Validation accuracy: 19.5%\n",
      "Minibatch loss at step 500: 1905.214844\n",
      "Minibatch accuracy: 81.2%\n",
      "Validation accuracy: 78.7%\n",
      "Minibatch loss at step 1000: 1153.698120\n",
      "Minibatch accuracy: 80.9%\n",
      "Validation accuracy: 80.4%\n",
      "Minibatch loss at step 1500: 697.008179\n",
      "Minibatch accuracy: 83.2%\n",
      "Validation accuracy: 81.7%\n",
      "Minibatch loss at step 2000: 421.919800\n",
      "Minibatch accuracy: 83.6%\n",
      "Validation accuracy: 82.2%\n",
      "Minibatch loss at step 2500: 255.439590\n",
      "Minibatch accuracy: 82.8%\n",
      "Validation accuracy: 83.2%\n",
      "Minibatch loss at step 3000: 154.822968\n",
      "Minibatch accuracy: 87.5%\n",
      "Validation accuracy: 84.5%\n",
      "Test accuracy: 90.8%\n"
     ]
    }
   ],
   "source": [
    "batch_size = 256\n",
    "hidden_nodes = 1024\n",
    "lamb_reg = 0.01\n",
    "\n",
    "graph = tf.Graph()\n",
    "with graph.as_default():\n",
    "\n",
    "    # Input data.\n",
    "    tf_train_dataset = tf.placeholder(tf.float32, shape=(batch_size, 784))\n",
    "    tf_train_labels = tf.placeholder(tf.float32, shape=(batch_size, 10))\n",
    "    tf_valid_dataset = tf.constant(valid_dataset)\n",
    "    tf_test_dataset = tf.constant(test_dataset)\n",
    "\n",
    "    # Variables.\n",
    "    layer1_weights = tf.Variable(tf.truncated_normal([784, hidden_nodes]))\n",
    "    layer1_biases = tf.Variable(tf.zeros([hidden_nodes]))\n",
    "    layer2_weights = tf.Variable(tf.truncated_normal([hidden_nodes, 10]))\n",
    "    layer2_biases = tf.Variable(tf.zeros([10]))\n",
    "\n",
    "    # Model.\n",
    "    def model(data):\n",
    "        layer1 = tf.matmul(data, layer1_weights) + layer1_biases\n",
    "        hidden1 = tf.nn.relu(layer1)\n",
    "        return tf.matmul(hidden1, layer2_weights) + layer2_biases\n",
    "    \n",
    "    # Training computation.\n",
    "    logits = model(tf_train_dataset)\n",
    "    loss = tf.reduce_mean(tf.nn.softmax_cross_entropy_with_logits(logits, tf_train_labels))\n",
    "    regularizers = (tf.nn.l2_loss(layer1_weights) + tf.nn.l2_loss(layer1_biases) + \n",
    "                    tf.nn.l2_loss(layer2_weights) + tf.nn.l2_loss(layer2_biases))\n",
    "    # Add the regularization term to the loss.\n",
    "    loss += lamb_reg * regularizers\n",
    "\n",
    "    # Optimizer.\n",
    "    optimizer = tf.train.GradientDescentOptimizer(0.05).minimize(loss)\n",
    "\n",
    "    # Predictions for the training, validation, and test data.\n",
    "    train_prediction = tf.nn.softmax(logits)\n",
    "    valid_prediction = tf.nn.softmax(model(tf_valid_dataset))\n",
    "    test_prediction = tf.nn.softmax(model(tf_test_dataset))\n",
    "    \n",
    "# Run the session\n",
    "run_session(3001)"
   ]
  },
  {
   "cell_type": "markdown",
   "metadata": {},
   "source": [
    "---\n",
    "Example - extreme overfitting\n",
    "---------\n",
    "Let's demonstrate an extreme case of overfitting. We restrict the training data to just a few batches. What happens?\n",
    "\n",
    "---"
   ]
  },
  {
   "cell_type": "code",
   "execution_count": 346,
   "metadata": {
    "collapsed": false
   },
   "outputs": [
    {
     "name": "stdout",
     "output_type": "stream",
     "text": [
      "Initialized\n",
      "Minibatch loss at step 0: 3486.231201\n",
      "Minibatch accuracy: 8.2%\n",
      "Validation accuracy: 19.3%\n",
      "Test accuracy: 56.4%\n"
     ]
    }
   ],
   "source": [
    "# Run a session with just 5 batches\n",
    "run_session(5)"
   ]
  },
  {
   "cell_type": "markdown",
   "metadata": {},
   "source": [
    "---\n",
    "Regularization using dropout\n",
    "---------\n",
    "We introduce Dropout on the hidden layer of the neural network. Remember: Dropout should only be introduced during training, not evaluation, otherwise your evaluation results would be stochastic as well. TensorFlow provides `nn.dropout()` for that, but you have to make sure it's only inserted during training.\n",
    "\n",
    "---"
   ]
  },
  {
   "cell_type": "code",
   "execution_count": 54,
   "metadata": {
    "collapsed": false
   },
   "outputs": [],
   "source": [
    "batch_size = 256\n",
    "hidden_nodes = 1024\n",
    "lamb_reg = 0.01\n",
    "\n",
    "graph = tf.Graph()\n",
    "with graph.as_default():\n",
    "\n",
    "    # Input data.\n",
    "    tf_train_dataset = tf.placeholder(tf.float32, shape=(batch_size, 784))\n",
    "    tf_train_labels = tf.placeholder(tf.float32, shape=(batch_size, 10))\n",
    "    tf_valid_dataset = tf.constant(valid_dataset)\n",
    "    tf_test_dataset = tf.constant(test_dataset)\n",
    "\n",
    "    # Variables.\n",
    "    layer1_weights = tf.Variable(tf.truncated_normal([784, hidden_nodes]))\n",
    "    layer1_biases = tf.Variable(tf.zeros([hidden_nodes]))\n",
    "    layer2_weights = tf.Variable(tf.truncated_normal([hidden_nodes, 10]))\n",
    "    layer2_biases = tf.Variable(tf.zeros([10]))\n",
    "        \n",
    "    keep_prob = tf.placeholder(\"float\")\n",
    "    \n",
    "    # Model with dropout\n",
    "    def model(data, train=False):\n",
    "        layer1 = tf.matmul(data, layer1_weights) + layer1_biases\n",
    "        hidden1 = tf.nn.relu(layer1)\n",
    "        # dropout on the hidden layer\n",
    "        if train:\n",
    "            hidden1 = tf.nn.dropout(hidden1, keep_prob)\n",
    "        return tf.matmul(hidden1, layer2_weights) + layer2_biases\n",
    "    \n",
    "    # Training computation.\n",
    "    logits = model(tf_train_dataset, True)\n",
    "    loss = tf.reduce_mean(tf.nn.softmax_cross_entropy_with_logits(logits, tf_train_labels))\n",
    "    regularizers = (tf.nn.l2_loss(layer1_weights) + tf.nn.l2_loss(layer1_biases) + \n",
    "                    tf.nn.l2_loss(layer2_weights) + tf.nn.l2_loss(layer2_biases))\n",
    "    # Add the regularization term to the loss.\n",
    "    loss += lamb_reg * regularizers\n",
    "\n",
    "    # Optimizer.\n",
    "    optimizer = tf.train.GradientDescentOptimizer(0.05).minimize(loss)\n",
    "\n",
    "    # Predictions for the training, validation, and test data.\n",
    "    train_prediction = tf.nn.softmax(logits)\n",
    "    valid_prediction = tf.nn.softmax(model(tf_valid_dataset))\n",
    "    test_prediction = tf.nn.softmax(model(tf_test_dataset))\n"
   ]
  },
  {
   "cell_type": "code",
   "execution_count": 55,
   "metadata": {
    "collapsed": false
   },
   "outputs": [
    {
     "name": "stdout",
     "output_type": "stream",
     "text": [
      "Initialized\n",
      "Minibatch loss at step 0: 3587.203125\n",
      "Minibatch accuracy: 11.7\n",
      "Validation accuracy: 20.8\n",
      "Minibatch loss at step 500: 1907.32177734375\n",
      "Minibatch accuracy: 78.1\n",
      "Validation accuracy: 82.5\n",
      "Minibatch loss at step 1000: 1147.8837890625\n",
      "Minibatch accuracy: 75.0\n",
      "Validation accuracy: 83.9\n",
      "Minibatch loss at step 1500: 691.355224609375\n",
      "Minibatch accuracy: 78.9\n",
      "Validation accuracy: 84.2\n",
      "Minibatch loss at step 2000: 417.85040283203125\n",
      "Minibatch accuracy: 79.7\n",
      "Validation accuracy: 84.2\n",
      "Minibatch loss at step 2500: 253.0830078125\n",
      "Minibatch accuracy: 79.7\n",
      "Validation accuracy: 84.4\n",
      "Minibatch loss at step 3000: 153.4779052734375\n",
      "Minibatch accuracy: 84.4\n",
      "Validation accuracy: 84.8\n",
      "Test accuracy: 90.9\n"
     ]
    }
   ],
   "source": [
    "# Re-define the function to include the keep probability\n",
    "def run_session(n_steps, k_prob):\n",
    "\n",
    "    with tf.Session(graph=graph) as session:\n",
    "        tf.initialize_all_variables().run()\n",
    "        print(\"Initialized\")\n",
    "        for step in range(n_steps):\n",
    "            offset = (step * batch_size) % (train_labels.shape[0] - batch_size)\n",
    "            batch_data = train_dataset[offset:(offset + batch_size), :]\n",
    "            batch_labels = train_labels[offset:(offset + batch_size), :]\n",
    "            feed_dict = {tf_train_dataset : batch_data, tf_train_labels : batch_labels, keep_prob : k_prob}\n",
    "            _, l, predictions = session.run([optimizer, loss, train_prediction], feed_dict=feed_dict)\n",
    "            if (step % 500 == 0):\n",
    "                print(\"Minibatch loss at step {}: {}\".format(step, l))\n",
    "                print(\"Minibatch accuracy: {:.1f}\".format(accuracy(predictions, batch_labels)))\n",
    "                print(\"Validation accuracy: {:.1f}\".format(accuracy(valid_prediction.eval(), valid_labels)))\n",
    "        print(\"Test accuracy: {:.1f}\".format(accuracy(test_prediction.eval(), test_labels)))\n",
    "        \n",
    "run_session(3001, 0.5)"
   ]
  },
  {
   "cell_type": "markdown",
   "metadata": {},
   "source": [
    "## What happens to our extreme overfitting case?"
   ]
  },
  {
   "cell_type": "code",
   "execution_count": 56,
   "metadata": {
    "collapsed": false
   },
   "outputs": [
    {
     "name": "stdout",
     "output_type": "stream",
     "text": [
      "Initialized\n",
      "Minibatch loss at step 0: 3650.361572265625\n",
      "Minibatch accuracy: 7.0\n",
      "Validation accuracy: 18.3\n",
      "Test accuracy: 60.2\n"
     ]
    }
   ],
   "source": [
    "# Run a session with just 5 batches\n",
    "run_session(5, 0.5)"
   ]
  },
  {
   "cell_type": "markdown",
   "metadata": {},
   "source": [
    "---\n",
    "- Step 4 -\n",
    "============\n",
    "Best performing multi-layer model\n",
    "---------\n",
    "\n",
    "We try to improve the performance using a multi-layer model! The best reported test accuracy using a deep network is [97.1%](http://yaroslavvb.blogspot.com/2011/09/notmnist-dataset.html?showComment=1391023266211#c8758720086795711595).\n",
    "\n",
    "To deepen the model, the most obvious solution is to add multiple layers.\n",
    "\n",
    "Another one is to use learning rate decay:\n",
    "\n",
    "    global_step = tf.Variable(0)  # count the number of steps taken.\n",
    "    learning_rate = tf.train.exponential_decay(0.5, global_step, ...)\n",
    "    optimizer = tf.train.GradientDescentOptimizer(learning_rate).minimize(loss, global_step=global_step)\n",
    " \n",
    " ---"
   ]
  },
  {
   "cell_type": "code",
   "execution_count": 109,
   "metadata": {
    "collapsed": false
   },
   "outputs": [],
   "source": [
    "def weight_variable(shape):\n",
    "    #initial = tf.truncated_normal(shape, stddev=0.01)\n",
    "    initial = tf.truncated_normal(shape, stddev=tf.sqrt(2.0/shape[0]))\n",
    "    return tf.Variable(initial)\n",
    "\n",
    "def bias_variable(shape):\n",
    "    #initial = tf.constant(0.1, shape=shape)\n",
    "    initial = tf.zeros(shape)\n",
    "    return tf.Variable(initial)\n",
    "\n",
    "split_by_half = lambda x,k : int(x/2**k)"
   ]
  },
  {
   "cell_type": "code",
   "execution_count": 116,
   "metadata": {
    "collapsed": false
   },
   "outputs": [],
   "source": [
    "batch_size = 256\n",
    "hidden_nodes = 1024\n",
    "lamb_reg = 0.001\n",
    "\n",
    "graph = tf.Graph()\n",
    "with graph.as_default():\n",
    "\n",
    "    # Input data.\n",
    "    tf_train_dataset = tf.placeholder(tf.float32, shape=(batch_size, 784))\n",
    "    tf_train_labels = tf.placeholder(tf.float32, shape=(batch_size, 10))\n",
    "    tf_valid_dataset = tf.constant(valid_dataset)\n",
    "    tf_test_dataset = tf.constant(test_dataset)\n",
    "\n",
    "    # Variables.\n",
    "    layer1_weights = weight_variable([784, hidden_nodes])\n",
    "    layer1_biases = bias_variable([hidden_nodes])\n",
    "    layer2_weights = weight_variable([hidden_nodes, split_by_half(hidden_nodes,0)])\n",
    "    layer2_biases = bias_variable([split_by_half(hidden_nodes,0)])\n",
    "    layer3_weights = weight_variable([split_by_half(hidden_nodes,0), split_by_half(hidden_nodes,0)])\n",
    "    layer3_biases = bias_variable([split_by_half(hidden_nodes,0)])    \n",
    "    layer4_weights = weight_variable([split_by_half(hidden_nodes,0), split_by_half(hidden_nodes,0)])\n",
    "    layer4_biases = bias_variable([split_by_half(hidden_nodes,0)])    \n",
    "    layer5_weights = weight_variable([split_by_half(hidden_nodes,0), split_by_half(hidden_nodes,0)])\n",
    "    layer5_biases = bias_variable([split_by_half(hidden_nodes,0)]) \n",
    "    layer6_weights = weight_variable([split_by_half(hidden_nodes,0), 10])\n",
    "    layer6_biases = bias_variable([10])\n",
    "    \n",
    "    keep_prob = tf.placeholder(\"float\")\n",
    "    \n",
    "    # Model with dropout\n",
    "    def model(data, proba=keep_prob):\n",
    "        layer1 = tf.matmul(data, layer1_weights) + layer1_biases\n",
    "        # dropout on the hidden layer\n",
    "        hidden1 = tf.nn.dropout(tf.nn.relu(layer1), proba)\n",
    "        # the new hidden layer\n",
    "        layer2 = tf.matmul(hidden1, layer2_weights) + layer2_biases\n",
    "        hidden2 = tf.nn.dropout(tf.nn.relu(layer2), proba)\n",
    "        layer3 = tf.matmul(hidden2, layer3_weights) + layer3_biases\n",
    "        hidden3 = tf.nn.dropout(tf.nn.relu(layer3), proba)\n",
    "        layer4 = tf.matmul(hidden3, layer4_weights) + layer4_biases\n",
    "        hidden4 = tf.nn.dropout(tf.nn.relu(layer4), proba)\n",
    "        layer5 = tf.matmul(hidden4, layer5_weights) + layer5_biases        \n",
    "        hidden5 = tf.nn.dropout(tf.nn.relu(layer5), proba)\n",
    "        return tf.matmul(hidden5, layer6_weights) + layer6_biases\n",
    "    \n",
    "    # Training computation.\n",
    "    logits = model(tf_train_dataset, keep_prob)\n",
    "    loss = tf.reduce_mean(tf.nn.softmax_cross_entropy_with_logits(logits, tf_train_labels))\n",
    "    regularizers = (tf.nn.l2_loss(layer1_weights) + tf.nn.l2_loss(layer1_biases) + \\\n",
    "                    tf.nn.l2_loss(layer2_weights) + tf.nn.l2_loss(layer2_biases) + \\\n",
    "                    tf.nn.l2_loss(layer3_weights) + tf.nn.l2_loss(layer3_biases) + \\\n",
    "                    tf.nn.l2_loss(layer4_weights) + tf.nn.l2_loss(layer4_biases) + \\\n",
    "                    tf.nn.l2_loss(layer5_weights) + tf.nn.l2_loss(layer5_biases) + \\\n",
    "                    tf.nn.l2_loss(layer6_weights) + tf.nn.l2_loss(layer6_biases))\n",
    "\n",
    "    # Add the regularization term to the loss.\n",
    "    #loss += lamb_reg * regularizers\n",
    "    loss = tf.reduce_mean(loss + lamb_reg * regularizers)\n",
    "\n",
    "    # Optimizer.\n",
    "    # learning rate decay\n",
    "    global_step = tf.Variable(0)  # count the number of steps taken.\n",
    "    start_learning_rate = 0.5\n",
    "    learning_rate = tf.train.exponential_decay(start_learning_rate, global_step, 100000, 0.96, staircase=True)\n",
    "    optimizer = tf.train.GradientDescentOptimizer(learning_rate).minimize(loss, global_step=global_step)\n",
    "\n",
    "    # Predictions for the training, validation, and test data.\n",
    "    train_prediction = tf.nn.softmax(logits)\n",
    "    valid_prediction = tf.nn.softmax(model(tf_valid_dataset,1.0))\n",
    "    test_prediction = tf.nn.softmax(model(tf_test_dataset,1.0))"
   ]
  },
  {
   "cell_type": "code",
   "execution_count": 117,
   "metadata": {
    "collapsed": false
   },
   "outputs": [
    {
     "name": "stdout",
     "output_type": "stream",
     "text": [
      "Initialized\n",
      "Minibatch loss at step 0: 7.409577369689941\n",
      "Minibatch accuracy: 9.8\n",
      "Validation accuracy: 10.0\n",
      "Minibatch loss at step 500: 3.044938087463379\n",
      "Minibatch accuracy: 82.4\n",
      "Validation accuracy: 83.4\n",
      "Minibatch loss at step 1000: 2.2381508350372314\n",
      "Minibatch accuracy: 81.6\n",
      "Validation accuracy: 85.1\n",
      "Minibatch loss at step 1500: 1.503574252128601\n",
      "Minibatch accuracy: 85.5\n",
      "Validation accuracy: 86.8\n",
      "Minibatch loss at step 2000: 1.1458631753921509\n",
      "Minibatch accuracy: 86.3\n",
      "Validation accuracy: 87.1\n",
      "Minibatch loss at step 2500: 0.981412947177887\n",
      "Minibatch accuracy: 82.8\n",
      "Validation accuracy: 87.3\n",
      "Minibatch loss at step 3000: 0.7737194299697876\n",
      "Minibatch accuracy: 87.1\n",
      "Validation accuracy: 87.7\n",
      "Test accuracy: 92.9\n"
     ]
    }
   ],
   "source": [
    "n_steps = 3001\n",
    "k_prob = 0.5\n",
    "\n",
    "with tf.Session(graph=graph) as session:\n",
    "    tf.initialize_all_variables().run()\n",
    "    print(\"Initialized\")\n",
    "    for step in range(n_steps):\n",
    "        offset = (step * batch_size) % (train_labels.shape[0] - batch_size)\n",
    "        batch_data = train_dataset[offset:(offset + batch_size), :]\n",
    "        batch_labels = train_labels[offset:(offset + batch_size), :]\n",
    "        feed_dict = {tf_train_dataset : batch_data, tf_train_labels : batch_labels, keep_prob : k_prob}\n",
    "        _, l, predictions = session.run([optimizer, loss, train_prediction], feed_dict=feed_dict)\n",
    "        if (step % 500 == 0):\n",
    "            print(\"Minibatch loss at step {}: {}\".format(step, l))\n",
    "            print(\"Minibatch accuracy: {:.1f}\".format(accuracy(predictions, batch_labels)))\n",
    "            print(\"Validation accuracy: {:.1f}\".format(accuracy(valid_prediction.eval(), valid_labels)))\n",
    "    print(\"Test accuracy: {:.1f}\".format(accuracy(test_prediction.eval(), test_labels)))"
   ]
  },
  {
   "cell_type": "code",
   "execution_count": 119,
   "metadata": {
    "collapsed": false
   },
   "outputs": [
    {
     "name": "stdout",
     "output_type": "stream",
     "text": [
      "Training set (200000, 28, 28) (200000,)\n",
      "Validation set (10000, 28, 28) (10000,)\n",
      "Test set (10000, 28, 28) (10000,)\n"
     ]
    }
   ],
   "source": [
    "pickle_file = 'notMNIST.pickle'\n",
    "\n",
    "with open(pickle_file, 'rb') as f:\n",
    "    save = pickle.load(f)\n",
    "    train_dataset = save['train_dataset']\n",
    "    train_labels = save['train_labels']\n",
    "    valid_dataset = save['valid_dataset']\n",
    "    valid_labels = save['valid_labels']\n",
    "    test_dataset = save['test_dataset']\n",
    "    test_labels = save['test_labels']\n",
    "    del save  # hint to help gc free up memory\n",
    "    print('Training set', train_dataset.shape, train_labels.shape)\n",
    "    print('Validation set', valid_dataset.shape, valid_labels.shape)\n",
    "    print('Test set', test_dataset.shape, test_labels.shape)"
   ]
  },
  {
   "cell_type": "code",
   "execution_count": 120,
   "metadata": {
    "collapsed": false
   },
   "outputs": [
    {
     "name": "stdout",
     "output_type": "stream",
     "text": [
      "Training set (200000, 28, 28, 1) (200000, 10)\n",
      "Validation set (10000, 28, 28, 1) (10000, 10)\n",
      "Test set (10000, 28, 28, 1) (10000, 10)\n"
     ]
    }
   ],
   "source": [
    "image_size = 28\n",
    "num_labels = 10\n",
    "num_channels = 1 # grayscale\n",
    "\n",
    "import numpy as np\n",
    "\n",
    "def reformat(dataset, labels):\n",
    "    dataset = dataset.reshape((-1, image_size, image_size, num_channels)).astype(np.float32)\n",
    "    labels = (np.arange(num_labels) == labels[:,None]).astype(np.float32)\n",
    "    return dataset, labels\n",
    "train_dataset, train_labels = reformat(train_dataset, train_labels)\n",
    "valid_dataset, valid_labels = reformat(valid_dataset, valid_labels)\n",
    "test_dataset, test_labels = reformat(test_dataset, test_labels)\n",
    "print('Training set', train_dataset.shape, train_labels.shape)\n",
    "print('Validation set', valid_dataset.shape, valid_labels.shape)\n",
    "print('Test set', test_dataset.shape, test_labels.shape)"
   ]
  },
  {
   "cell_type": "markdown",
   "metadata": {},
   "source": [
    "---\n",
    "- Step 5 -\n",
    "============\n",
    "Convolutional Neural Nets\n",
    "---------\n",
    "\n",
    "The goal now is make the neural network convolutional.   \n",
    "Let's build a small network with two convolutional layers, followed by one fully connected layer. Convolutional networks are more expensive computationally, so we'll limit its depth and number of fully connected nodes.\n",
    " \n",
    " ---"
   ]
  },
  {
   "cell_type": "markdown",
   "metadata": {},
   "source": [
    "## CNN from Tensorflow website tutorial\n"
   ]
  },
  {
   "cell_type": "code",
   "execution_count": 121,
   "metadata": {
    "collapsed": false
   },
   "outputs": [],
   "source": [
    "batch_size = 16\n",
    "patch_size = 5\n",
    "depth = 16\n",
    "num_hidden = 64\n",
    "\n",
    "graph = tf.Graph()\n",
    "\n",
    "with graph.as_default():\n",
    "\n",
    "    # Input data.\n",
    "    tf_train_dataset = tf.placeholder(tf.float32, shape=(batch_size, image_size, image_size, num_channels))\n",
    "    tf_train_labels = tf.placeholder(tf.float32, shape=(batch_size, num_labels))\n",
    "    tf_valid_dataset = tf.constant(valid_dataset)\n",
    "    tf_test_dataset = tf.constant(test_dataset)\n",
    "\n",
    "    # Variables.\n",
    "    layer1_weights = tf.Variable(tf.truncated_normal([patch_size, patch_size, num_channels, depth], stddev=0.1))\n",
    "    layer1_biases = tf.Variable(tf.zeros([depth]))\n",
    "    layer2_weights = tf.Variable(tf.truncated_normal([patch_size, patch_size, depth, depth], stddev=0.1))\n",
    "    layer2_biases = tf.Variable(tf.constant(1.0, shape=[depth]))\n",
    "    layer3_weights = tf.Variable(tf.truncated_normal([image_size // 4 * image_size // 4 * depth, num_hidden], stddev=0.1))\n",
    "    layer3_biases = tf.Variable(tf.constant(1.0, shape=[num_hidden]))\n",
    "    layer4_weights = tf.Variable(tf.truncated_normal([num_hidden, num_labels], stddev=0.1))\n",
    "    layer4_biases = tf.Variable(tf.constant(1.0, shape=[num_labels]))\n",
    "  \n",
    "    # Model.\n",
    "    def model(data):\n",
    "        conv = tf.nn.conv2d(data, layer1_weights, [1, 2, 2, 1], padding='SAME')\n",
    "        hidden = tf.nn.relu(conv + layer1_biases)\n",
    "        conv = tf.nn.conv2d(hidden, layer2_weights, [1, 2, 2, 1], padding='SAME')\n",
    "        hidden = tf.nn.relu(conv + layer2_biases)\n",
    "        shape = hidden.get_shape().as_list()\n",
    "        reshape = tf.reshape(hidden, [shape[0], shape[1] * shape[2] * shape[3]])\n",
    "        hidden = tf.nn.relu(tf.matmul(reshape, layer3_weights) + layer3_biases)\n",
    "        return tf.matmul(hidden, layer4_weights) + layer4_biases\n",
    "  \n",
    "    # Training computation.\n",
    "    logits = model(tf_train_dataset)\n",
    "    loss = tf.reduce_mean(tf.nn.softmax_cross_entropy_with_logits(logits, tf_train_labels))\n",
    "\n",
    "    # Optimizer.\n",
    "    optimizer = tf.train.GradientDescentOptimizer(0.05).minimize(loss)\n",
    "\n",
    "    # Predictions for the training, validation, and test data.\n",
    "    train_prediction = tf.nn.softmax(logits)\n",
    "    valid_prediction = tf.nn.softmax(model(tf_valid_dataset))\n",
    "    test_prediction = tf.nn.softmax(model(tf_test_dataset))"
   ]
  },
  {
   "cell_type": "code",
   "execution_count": 123,
   "metadata": {
    "collapsed": false
   },
   "outputs": [
    {
     "name": "stdout",
     "output_type": "stream",
     "text": [
      "Initialized\n",
      "Minibatch loss at step 0: 2.840119\n",
      "Minibatch accuracy: 6.2%\n",
      "Validation accuracy: 10.0%\n",
      "Minibatch loss at step 50: 2.295006\n",
      "Minibatch accuracy: 12.5%\n",
      "Validation accuracy: 17.4%\n",
      "Minibatch loss at step 100: 1.376617\n",
      "Minibatch accuracy: 50.0%\n",
      "Validation accuracy: 58.7%\n",
      "Minibatch loss at step 150: 1.415563\n",
      "Minibatch accuracy: 68.8%\n",
      "Validation accuracy: 66.8%\n",
      "Minibatch loss at step 200: 0.517044\n",
      "Minibatch accuracy: 81.2%\n",
      "Validation accuracy: 76.4%\n",
      "Minibatch loss at step 250: 1.000265\n",
      "Minibatch accuracy: 68.8%\n",
      "Validation accuracy: 77.4%\n",
      "Minibatch loss at step 300: 1.148949\n",
      "Minibatch accuracy: 56.2%\n",
      "Validation accuracy: 74.7%\n",
      "Minibatch loss at step 350: 0.770374\n",
      "Minibatch accuracy: 75.0%\n",
      "Validation accuracy: 78.0%\n",
      "Minibatch loss at step 400: 0.638169\n",
      "Minibatch accuracy: 81.2%\n",
      "Validation accuracy: 78.8%\n",
      "Minibatch loss at step 450: 0.451470\n",
      "Minibatch accuracy: 87.5%\n",
      "Validation accuracy: 80.1%\n",
      "Minibatch loss at step 500: 0.698294\n",
      "Minibatch accuracy: 81.2%\n",
      "Validation accuracy: 80.0%\n",
      "Minibatch loss at step 550: 0.456420\n",
      "Minibatch accuracy: 87.5%\n",
      "Validation accuracy: 81.4%\n",
      "Minibatch loss at step 600: 0.763272\n",
      "Minibatch accuracy: 81.2%\n",
      "Validation accuracy: 80.7%\n",
      "Minibatch loss at step 650: 1.140343\n",
      "Minibatch accuracy: 62.5%\n",
      "Validation accuracy: 78.5%\n",
      "Minibatch loss at step 700: 0.614853\n",
      "Minibatch accuracy: 81.2%\n",
      "Validation accuracy: 80.4%\n",
      "Minibatch loss at step 750: 0.757095\n",
      "Minibatch accuracy: 81.2%\n",
      "Validation accuracy: 81.2%\n",
      "Minibatch loss at step 800: 0.517085\n",
      "Minibatch accuracy: 87.5%\n",
      "Validation accuracy: 81.9%\n",
      "Minibatch loss at step 850: 0.942344\n",
      "Minibatch accuracy: 68.8%\n",
      "Validation accuracy: 81.5%\n",
      "Minibatch loss at step 900: 0.359060\n",
      "Minibatch accuracy: 87.5%\n",
      "Validation accuracy: 82.2%\n",
      "Minibatch loss at step 950: 0.671948\n",
      "Minibatch accuracy: 68.8%\n",
      "Validation accuracy: 82.1%\n",
      "Minibatch loss at step 1000: 0.379948\n",
      "Minibatch accuracy: 87.5%\n",
      "Validation accuracy: 82.7%\n",
      "Test accuracy: 89.5%\n"
     ]
    }
   ],
   "source": [
    "def run_session(n_steps):\n",
    "    with tf.Session(graph=graph) as session:\n",
    "        tf.initialize_all_variables().run()\n",
    "        print('Initialized')\n",
    "        for step in range(n_steps):\n",
    "            offset = (step * batch_size) % (train_labels.shape[0] - batch_size)\n",
    "            batch_data = train_dataset[offset:(offset + batch_size), :, :, :]\n",
    "            batch_labels = train_labels[offset:(offset + batch_size), :]\n",
    "            feed_dict = {tf_train_dataset : batch_data, tf_train_labels : batch_labels}\n",
    "            _, l, predictions = session.run([optimizer, loss, train_prediction], feed_dict=feed_dict)\n",
    "            if (step % 50 == 0):\n",
    "                print('Minibatch loss at step %d: %f' % (step, l))\n",
    "                print('Minibatch accuracy: %.1f%%' % accuracy(predictions, batch_labels))\n",
    "                print('Validation accuracy: %.1f%%' % accuracy(valid_prediction.eval(), valid_labels))\n",
    "        print('Test accuracy: %.1f%%' % accuracy(test_prediction.eval(), test_labels))\n",
    "        \n",
    "run_session(1001)"
   ]
  },
  {
   "cell_type": "code",
   "execution_count": 124,
   "metadata": {
    "collapsed": false
   },
   "outputs": [
    {
     "name": "stdout",
     "output_type": "stream",
     "text": [
      "4\n"
     ]
    }
   ],
   "source": [
    "image_size = 28\n",
    "# Create image size function based on input, filter size, padding and stride\n",
    "# 2 convolutions only with 2 pooling\n",
    "def output_size_pool(input_size, conv_filter_size, pool_filter_size, padding, conv_stride, pool_stride):\n",
    "    if padding == 'same':\n",
    "        padding = -1.00\n",
    "    elif padding == 'valid':\n",
    "        padding = 0.00\n",
    "    else:\n",
    "        return None\n",
    "    # After convolution 1\n",
    "    output_1 = (((input_size - conv_filter_size - 2*padding) / conv_stride) + 1.00)\n",
    "    # After pool 1\n",
    "    output_2 = (((output_1 - pool_filter_size - 2*padding) / pool_stride) + 1.00)    \n",
    "    # After convolution 2\n",
    "    output_3 = (((output_2 - conv_filter_size - 2*padding) / conv_stride) + 1.00)\n",
    "    # After pool 2\n",
    "    output_4 = (((output_3 - pool_filter_size - 2*padding) / pool_stride) + 1.00)  \n",
    "    return int(output_4)\n",
    "\n",
    "final_image_size = output_size_pool(input_size=image_size, conv_filter_size=5, pool_filter_size=2, padding='valid', conv_stride=1, pool_stride=2)\n",
    "print(final_image_size)"
   ]
  },
  {
   "cell_type": "markdown",
   "metadata": {},
   "source": [
    "With pooling, dropout and learning rate decay  \n",
    "------------------"
   ]
  },
  {
   "cell_type": "code",
   "execution_count": 125,
   "metadata": {
    "collapsed": true
   },
   "outputs": [],
   "source": [
    "batch_size = 16\n",
    "\n",
    "depth = 32  # Output channels\n",
    "num_channels = 1 # Input channels\n",
    "num_hidden = 64\n",
    "lamb_reg = 0.001\n",
    "\n",
    "graph = tf.Graph()\n",
    "\n",
    "with graph.as_default():\n",
    "\n",
    "    # Input data.\n",
    "    tf_train_dataset = tf.placeholder(tf.float32, shape=(batch_size, image_size, image_size, num_channels))\n",
    "    tf_train_labels = tf.placeholder(tf.float32, shape=(batch_size, num_labels))\n",
    "    tf_valid_dataset = tf.constant(valid_dataset)\n",
    "    tf_test_dataset = tf.constant(test_dataset)\n",
    "\n",
    "    # Variables.\n",
    "    # Convolution\n",
    "    layer1_weights = tf.Variable(tf.truncated_normal([patch_size, patch_size, num_channels, depth], stddev=0.1))\n",
    "    layer1_biases = tf.Variable(tf.zeros([depth]))\n",
    "    # Convolution\n",
    "    layer2_weights = tf.Variable(tf.truncated_normal([patch_size, patch_size, depth, depth], stddev=0.1))\n",
    "    layer2_biases = tf.Variable(tf.constant(1.0, shape=[depth]))\n",
    "    # Fully Connected Layer\n",
    "    final_image_size = output_size_pool(input_size=image_size, conv_filter_size=5, pool_filter_size=2, padding='valid', conv_stride=1, pool_stride=2)\n",
    "    layer3_weights = tf.Variable(tf.truncated_normal([final_image_size * final_image_size * depth, num_hidden], stddev=0.1))\n",
    "    layer3_biases = tf.Variable(tf.constant(1.0, shape=[num_hidden]))\n",
    "    # Fully Connected Layer\n",
    "    layer4_weights = tf.Variable(tf.truncated_normal([num_hidden, num_hidden], stddev=0.1))\n",
    "    layer4_biases = tf.Variable(tf.constant(1.0, shape=[num_hidden]))\n",
    "    # Softmax Layer\n",
    "    layer5_weights = tf.Variable(tf.truncated_normal([num_hidden, num_labels], stddev=0.1))\n",
    "    layer5_biases = tf.Variable(tf.constant(1.0, shape=[num_labels]))\n",
    "\n",
    "    # Model.\n",
    "    def model(data, k_prob):\n",
    "        # Convolution\n",
    "        conv = tf.nn.conv2d(data, layer1_weights, strides=[1, 1, 1, 1], padding='VALID')\n",
    "        hidden = tf.nn.relu(conv + layer1_biases)\n",
    "        pool = tf.nn.avg_pool(hidden, [1, 2, 2, 1], [1, 2, 2, 1], padding='VALID')\n",
    "        # Convolution\n",
    "        conv = tf.nn.conv2d(pool, layer2_weights, strides=[1, 1, 1, 1], padding='VALID')\n",
    "        hidden = tf.nn.relu(conv + layer2_biases)\n",
    "        pool = tf.nn.avg_pool(hidden, [1, 2, 2, 1], [1, 2, 2, 1], padding='VALID')\n",
    "        # Fully Connected Layer\n",
    "        shape = pool.get_shape().as_list()\n",
    "        reshape = tf.reshape(pool, [shape[0], shape[1] * shape[2] * shape[3]])\n",
    "        hidden = tf.nn.relu(tf.matmul(reshape, layer3_weights) + layer3_biases)\n",
    "        hidden = tf.nn.dropout(hidden, k_prob)\n",
    "        # Fully Connected Layer\n",
    "        hidden = tf.nn.relu(tf.matmul(hidden, layer4_weights) + layer4_biases)\n",
    "        hidden = tf.nn.dropout(hidden, k_prob)\n",
    "        # Softmax Layer\n",
    "        return tf.matmul(hidden, layer5_weights) + layer5_biases\n",
    "\n",
    "    # Training computation.\n",
    "    logits = model(tf_train_dataset, 0.5)\n",
    "    loss = tf.reduce_mean(tf.nn.softmax_cross_entropy_with_logits(logits, tf_train_labels))\n",
    "    regularizers = (tf.nn.l2_loss(layer1_weights) + tf.nn.l2_loss(layer1_biases) + \\\n",
    "                    tf.nn.l2_loss(layer2_weights) + tf.nn.l2_loss(layer2_biases) + \\\n",
    "                    tf.nn.l2_loss(layer3_weights) + tf.nn.l2_loss(layer3_biases) + \\\n",
    "                    tf.nn.l2_loss(layer4_weights) + tf.nn.l2_loss(layer4_biases) + \\\n",
    "                    tf.nn.l2_loss(layer5_weights) + tf.nn.l2_loss(layer5_biases))\n",
    "\n",
    "    # Add the regularization term to the loss.\n",
    "    #loss += lamb_reg * regularizers\n",
    "    loss = tf.reduce_mean(loss + lamb_reg * regularizers)\n",
    "\n",
    "    # Optimizer.\n",
    "    # Decaying learning rate\n",
    "    global_step = tf.Variable(0)  # count the number of steps taken.\n",
    "    start_learning_rate = 0.05\n",
    "    learning_rate = tf.train.exponential_decay(start_learning_rate, global_step, 100000, 0.96, staircase=True)\n",
    "\n",
    "    optimizer = tf.train.GradientDescentOptimizer(learning_rate).minimize(loss)\n",
    "\n",
    "    # Predictions for the training, validation, and test data.\n",
    "    train_prediction = tf.nn.softmax(logits)\n",
    "    valid_prediction = tf.nn.softmax(model(tf_valid_dataset,1.0))\n",
    "    test_prediction = tf.nn.softmax(model(tf_test_dataset,1.0))"
   ]
  },
  {
   "cell_type": "code",
   "execution_count": 126,
   "metadata": {
    "collapsed": false
   },
   "outputs": [
    {
     "name": "stdout",
     "output_type": "stream",
     "text": [
      "Initialized\n",
      "Minibatch loss at step 0: 4.680200\n",
      "Minibatch accuracy: 6.2%\n",
      "Validation accuracy: 10.0%\n",
      "Minibatch loss at step 50: 2.581326\n",
      "Minibatch accuracy: 31.2%\n",
      "Validation accuracy: 30.2%\n",
      "Minibatch loss at step 100: 2.238833\n",
      "Minibatch accuracy: 31.2%\n",
      "Validation accuracy: 40.0%\n",
      "Minibatch loss at step 150: 2.288424\n",
      "Minibatch accuracy: 25.0%\n",
      "Validation accuracy: 52.1%\n",
      "Minibatch loss at step 200: 1.921798\n",
      "Minibatch accuracy: 43.8%\n",
      "Validation accuracy: 56.2%\n",
      "Minibatch loss at step 250: 1.660140\n",
      "Minibatch accuracy: 56.2%\n",
      "Validation accuracy: 66.0%\n",
      "Minibatch loss at step 300: 2.269862\n",
      "Minibatch accuracy: 31.2%\n",
      "Validation accuracy: 62.0%\n",
      "Minibatch loss at step 350: 1.681708\n",
      "Minibatch accuracy: 50.0%\n",
      "Validation accuracy: 69.5%\n",
      "Minibatch loss at step 400: 1.673034\n",
      "Minibatch accuracy: 56.2%\n",
      "Validation accuracy: 66.6%\n",
      "Minibatch loss at step 450: 1.387433\n",
      "Minibatch accuracy: 62.5%\n",
      "Validation accuracy: 75.4%\n",
      "Minibatch loss at step 500: 1.532947\n",
      "Minibatch accuracy: 62.5%\n",
      "Validation accuracy: 75.9%\n",
      "Minibatch loss at step 550: 1.445803\n",
      "Minibatch accuracy: 50.0%\n",
      "Validation accuracy: 75.8%\n",
      "Minibatch loss at step 600: 1.564987\n",
      "Minibatch accuracy: 62.5%\n",
      "Validation accuracy: 74.1%\n",
      "Minibatch loss at step 650: 3.139510\n",
      "Minibatch accuracy: 43.8%\n",
      "Validation accuracy: 75.7%\n",
      "Minibatch loss at step 700: 1.523117\n",
      "Minibatch accuracy: 62.5%\n",
      "Validation accuracy: 74.4%\n",
      "Minibatch loss at step 750: 1.472018\n",
      "Minibatch accuracy: 43.8%\n",
      "Validation accuracy: 76.8%\n",
      "Minibatch loss at step 800: 1.400226\n",
      "Minibatch accuracy: 56.2%\n",
      "Validation accuracy: 78.6%\n",
      "Minibatch loss at step 850: 1.427524\n",
      "Minibatch accuracy: 68.8%\n",
      "Validation accuracy: 77.1%\n",
      "Minibatch loss at step 900: 1.099175\n",
      "Minibatch accuracy: 62.5%\n",
      "Validation accuracy: 79.1%\n",
      "Minibatch loss at step 950: 1.258860\n",
      "Minibatch accuracy: 62.5%\n",
      "Validation accuracy: 77.8%\n",
      "Minibatch loss at step 1000: 1.692870\n",
      "Minibatch accuracy: 56.2%\n",
      "Validation accuracy: 78.4%\n",
      "Minibatch loss at step 1050: 1.485024\n",
      "Minibatch accuracy: 62.5%\n",
      "Validation accuracy: 78.7%\n",
      "Minibatch loss at step 1100: 2.273164\n",
      "Minibatch accuracy: 50.0%\n",
      "Validation accuracy: 77.1%\n",
      "Minibatch loss at step 1150: 1.227584\n",
      "Minibatch accuracy: 75.0%\n",
      "Validation accuracy: 79.8%\n",
      "Minibatch loss at step 1200: 1.139822\n",
      "Minibatch accuracy: 62.5%\n",
      "Validation accuracy: 79.4%\n",
      "Minibatch loss at step 1250: 1.623089\n",
      "Minibatch accuracy: 68.8%\n",
      "Validation accuracy: 80.5%\n",
      "Minibatch loss at step 1300: 0.819311\n",
      "Minibatch accuracy: 81.2%\n",
      "Validation accuracy: 80.0%\n",
      "Minibatch loss at step 1350: 1.291070\n",
      "Minibatch accuracy: 75.0%\n",
      "Validation accuracy: 80.4%\n",
      "Minibatch loss at step 1400: 1.116526\n",
      "Minibatch accuracy: 68.8%\n",
      "Validation accuracy: 80.6%\n",
      "Minibatch loss at step 1450: 2.050296\n",
      "Minibatch accuracy: 50.0%\n",
      "Validation accuracy: 80.5%\n",
      "Minibatch loss at step 1500: 0.855603\n",
      "Minibatch accuracy: 81.2%\n",
      "Validation accuracy: 81.2%\n",
      "Minibatch loss at step 1550: 0.799849\n",
      "Minibatch accuracy: 93.8%\n",
      "Validation accuracy: 81.1%\n",
      "Minibatch loss at step 1600: 2.403156\n",
      "Minibatch accuracy: 56.2%\n",
      "Validation accuracy: 80.7%\n",
      "Minibatch loss at step 1650: 0.965018\n",
      "Minibatch accuracy: 81.2%\n",
      "Validation accuracy: 81.0%\n",
      "Minibatch loss at step 1700: 1.489864\n",
      "Minibatch accuracy: 68.8%\n",
      "Validation accuracy: 79.9%\n",
      "Minibatch loss at step 1750: 1.434222\n",
      "Minibatch accuracy: 62.5%\n",
      "Validation accuracy: 80.8%\n",
      "Minibatch loss at step 1800: 0.890213\n",
      "Minibatch accuracy: 87.5%\n",
      "Validation accuracy: 81.2%\n",
      "Minibatch loss at step 1850: 0.995324\n",
      "Minibatch accuracy: 81.2%\n",
      "Validation accuracy: 80.9%\n",
      "Minibatch loss at step 1900: 1.209850\n",
      "Minibatch accuracy: 68.8%\n",
      "Validation accuracy: 82.0%\n",
      "Minibatch loss at step 1950: 1.041258\n",
      "Minibatch accuracy: 81.2%\n",
      "Validation accuracy: 82.4%\n",
      "Minibatch loss at step 2000: 0.939664\n",
      "Minibatch accuracy: 81.2%\n",
      "Validation accuracy: 81.8%\n",
      "Minibatch loss at step 2050: 1.690349\n",
      "Minibatch accuracy: 50.0%\n",
      "Validation accuracy: 82.3%\n",
      "Minibatch loss at step 2100: 0.587713\n",
      "Minibatch accuracy: 93.8%\n",
      "Validation accuracy: 82.3%\n",
      "Minibatch loss at step 2150: 0.493150\n",
      "Minibatch accuracy: 100.0%\n",
      "Validation accuracy: 82.0%\n",
      "Minibatch loss at step 2200: 0.933658\n",
      "Minibatch accuracy: 75.0%\n",
      "Validation accuracy: 81.7%\n",
      "Minibatch loss at step 2250: 1.431619\n",
      "Minibatch accuracy: 62.5%\n",
      "Validation accuracy: 82.3%\n",
      "Minibatch loss at step 2300: 1.104777\n",
      "Minibatch accuracy: 68.8%\n",
      "Validation accuracy: 82.4%\n",
      "Minibatch loss at step 2350: 0.949872\n",
      "Minibatch accuracy: 87.5%\n",
      "Validation accuracy: 82.4%\n",
      "Minibatch loss at step 2400: 1.331027\n",
      "Minibatch accuracy: 68.8%\n",
      "Validation accuracy: 82.7%\n",
      "Minibatch loss at step 2450: 1.899621\n",
      "Minibatch accuracy: 75.0%\n",
      "Validation accuracy: 81.5%\n",
      "Minibatch loss at step 2500: 0.914177\n",
      "Minibatch accuracy: 81.2%\n",
      "Validation accuracy: 82.8%\n",
      "Minibatch loss at step 2550: 0.716866\n",
      "Minibatch accuracy: 87.5%\n",
      "Validation accuracy: 82.5%\n",
      "Minibatch loss at step 2600: 1.008171\n",
      "Minibatch accuracy: 75.0%\n",
      "Validation accuracy: 83.2%\n",
      "Minibatch loss at step 2650: 0.911938\n",
      "Minibatch accuracy: 87.5%\n",
      "Validation accuracy: 82.5%\n",
      "Minibatch loss at step 2700: 0.856070\n",
      "Minibatch accuracy: 68.8%\n",
      "Validation accuracy: 82.7%\n",
      "Minibatch loss at step 2750: 1.154043\n",
      "Minibatch accuracy: 75.0%\n",
      "Validation accuracy: 82.8%\n",
      "Minibatch loss at step 2800: 1.177572\n",
      "Minibatch accuracy: 62.5%\n",
      "Validation accuracy: 83.1%\n",
      "Minibatch loss at step 2850: 0.600833\n",
      "Minibatch accuracy: 87.5%\n",
      "Validation accuracy: 83.8%\n",
      "Minibatch loss at step 2900: 1.517583\n",
      "Minibatch accuracy: 68.8%\n",
      "Validation accuracy: 83.0%\n",
      "Minibatch loss at step 2950: 0.596518\n",
      "Minibatch accuracy: 100.0%\n",
      "Validation accuracy: 83.4%\n",
      "Minibatch loss at step 3000: 0.836426\n",
      "Minibatch accuracy: 93.8%\n",
      "Validation accuracy: 83.7%\n",
      "Test accuracy: 89.9%\n"
     ]
    }
   ],
   "source": [
    "run_session(3001)"
   ]
  },
  {
   "cell_type": "code",
   "execution_count": null,
   "metadata": {
    "collapsed": true
   },
   "outputs": [],
   "source": []
  }
 ],
 "metadata": {
  "anaconda-cloud": {},
  "colab": {
   "default_view": {},
   "name": "2_fullyconnected.ipynb",
   "provenance": [],
   "version": "0.3.2",
   "views": {}
  },
  "kernelspec": {
   "display_name": "Python [conda env:tensorflow35]",
   "language": "python",
   "name": "conda-env-tensorflow35-py"
  },
  "language_info": {
   "codemirror_mode": {
    "name": "ipython",
    "version": 3
   },
   "file_extension": ".py",
   "mimetype": "text/x-python",
   "name": "python",
   "nbconvert_exporter": "python",
   "pygments_lexer": "ipython3",
   "version": "3.5.2"
  }
 },
 "nbformat": 4,
 "nbformat_minor": 0
}
